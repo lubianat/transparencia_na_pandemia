{
 "cells": [
  {
   "cell_type": "code",
   "execution_count": 2,
   "metadata": {
    "colab": {
     "base_uri": "https://localhost:8080/",
     "height": 122
    },
    "colab_type": "code",
    "id": "R08unTh9wCW7",
    "outputId": "8838550a-6420-496f-8b73-455fa172fe3f"
   },
   "outputs": [
    {
     "name": "stderr",
     "output_type": "stream",
     "text": [
      "[nltk_data] Downloading package stopwords to C:\\Users\\Tali\n",
      "[nltk_data]     Dantas\\AppData\\Roaming\\nltk_data...\n",
      "[nltk_data]   Package stopwords is already up-to-date!\n"
     ]
    },
    {
     "data": {
      "text/plain": [
       "True"
      ]
     },
     "execution_count": 2,
     "metadata": {},
     "output_type": "execute_result"
    }
   ],
   "source": [
    "import nltk, os, functools, re \n",
    "from nltk.tokenize import word_tokenize\n",
    "from nltk.corpus import stopwords\n",
    "from statistics import mean\n",
    "import seaborn as sns\n",
    "#import plotly.figure_factory as ff\n",
    "#import plotly.graph_objects as go\n",
    "\n",
    "nltk.download('stopwords')"
   ]
  },
  {
   "cell_type": "code",
   "execution_count": 21,
   "metadata": {
    "colab": {},
    "colab_type": "code",
    "id": "eklAW15lwMMp"
   },
   "outputs": [],
   "source": [
    "\n",
    "# versão mais otimizada\n",
    "class Diary:\n",
    "    def __init__(self, lines:list, name:str, key_term:str):\n",
    "        self.name = name\n",
    "        self.key_terms = {key_term}\n",
    "        self.lines = lines    \n",
    "        self.pages = []\n",
    "        self.n_of_pages = 0\n",
    "        self.average_columns = 0\n",
    "        self.average_columns_spacing = 0\n",
    "        \n",
    "        self.all_words = []\n",
    "        self.word_frequencies = {}\n",
    "        \n",
    "        self.average_columns_per_page = []\n",
    "        self.average_columns_spacing_per_page = []\n",
    "        \n",
    "        self.w_reg = r\"\\b[-'a-zA-ZÀ-ÖØ-öø-ÿ]+\\b\"\n",
    "        self.s_reg = r\"\\s\\s+\" # GATO 1: \"2 ou mais espaços\"; melhorar a regra\n",
    "        \n",
    "        self.process_all_attributes()\n",
    "        \n",
    "    def process_all_attributes(self):\n",
    "        self.__set_pages()\n",
    "        self.__set_average_columns()\n",
    "        self.tokenize()\n",
    "#         self.calculate_word_frequencies()\n",
    "        \n",
    "    def __set_pages(self):\n",
    "        for i,line in enumerate(self.lines):\n",
    "            if '\\014' in line:\n",
    "                self.n_of_pages += 1\n",
    "                self.pages.append(i)\n",
    "\n",
    "\n",
    "    def __set_average_columns(self):\n",
    "        n_of_spaces_p = 0\n",
    "        n_of_words_p = 0\n",
    "        n_of_blocks_of_spaces_p = 0\n",
    "        \n",
    "        lines_p_p = 0\n",
    "        self.average_columns_per_page = []\n",
    "        self.average_columns_spacing_per_page = []\n",
    "        \n",
    "        for line in self.lines:\n",
    "            if '\\014' in line:\n",
    "                average_columns =  n_of_blocks_of_spaces_p / lines_p_p\n",
    "                average_columns_spacing = ((n_of_spaces_p - n_of_words_p) / lines_p_p) / average_columns\n",
    "                \n",
    "                self.average_columns_per_page.append(average_columns)\n",
    "                self.average_columns_spacing_per_page.append(average_columns_spacing)\n",
    "                \n",
    "                n_of_spaces_p = 0\n",
    "                n_of_words_p = 0\n",
    "                n_of_blocks_of_spaces_p = 0\n",
    "                lines_p_p = 0\n",
    "           \n",
    "            lines_p_p += 1\n",
    "            line = line.strip()\n",
    "            n_of_spaces_p += line.count(' ')\n",
    "            n_of_words_p  += len(re.findall(self.w_reg, line))\n",
    "            n_of_blocks_of_spaces_p += len(re.findall(self.s_reg, line))+1\n",
    "                \n",
    "            \n",
    "        self.average_columns = mean(self.average_columns_per_page)\n",
    "        self.average_columns_spacing = mean(self.average_columns_spacing_per_page)\n",
    "\n",
    "        \n",
    "    def tokenize(self):\n",
    "\n",
    "        stop_words = set(stopwords.words('portuguese'))\n",
    "        jargons = set(['municipal',\n",
    "                    'silva',\n",
    "                    'dias',\n",
    "                    'santos',\n",
    "                    'protocolo',\n",
    "                    'certidão',\n",
    "                    'motivo',\n",
    "                    'devedor',\n",
    "                    'secretaria',\n",
    "                    'município',\n",
    "                    'salvador',\n",
    "                    'processo',\n",
    "                    'portaria',\n",
    "                    'publicação',\n",
    "                    'norte',\n",
    "                    'goiânia',\n",
    "                    'data',\n",
    "                    'página',\n",
    "                    'edição',\n",
    "                    'castelo',\n",
    "                    'secretário',\n",
    "                    'artigo',\n",
    "                    'decreto',\n",
    "                    'fevereiro',\n",
    "                    'março',\n",
    "                    'previdenciário',\n",
    "                    'diariomunicipal',\n",
    "                    'oliveira',\n",
    "                    'prefeitura',\n",
    "                    'agente',\n",
    "                    'maria',\n",
    "                    'santo',\n",
    "                    'estado',\n",
    "                    'maringá',\n",
    "                    'procedente',\n",
    "                    'considerando',\n",
    "                    'souza',\n",
    "                    'florianópolis',\n",
    "                    'otima',\n",
    "                    'espírito',\n",
    "                    'abril',\n",
    "                    'pereira',\n",
    "                    'total',\n",
    "                    'edital',\n",
    "                    'lote',\n",
    "                    'público',\n",
    "                    'carnaval',\n",
    "                    'cláusula',\n",
    "                    'prazo',\n",
    "                    'maio',\n",
    "                    'plataforma',\n",
    "                    'campinas',\n",
    "                    'matrícula',\n",
    "                    'entregar',\n",
    "                    'ausente',\n",
    "                    'social',\n",
    "                    'horas',\n",
    "                    'termo',\n",
    "                    'josé',\n",
    "                    'período',\n",
    "                    'unidade',\n",
    "                    'presente',\n",
    "                    'vigor',\n",
    "                    'alves',\n",
    "                    'conforme',\n",
    "                    'complementar',\n",
    "                    'outros',\n",
    "                    'registro',\n",
    "                    'grau',\n",
    "                    'manaus',\n",
    "                    'ferreira',\n",
    "                    'uberaba',\n",
    "                    'marca',\n",
    "                    'quarta-feira',\n",
    "                    'empresa',\n",
    "                    'goiania',\n",
    "                    'santa',\n",
    "                    'inciso',\n",
    "                    'classe',\n",
    "                    'guarda',\n",
    "                    'partir',\n",
    "                    'rodrigues',\n",
    "                    'resolve',\n",
    "                    'receitas',\n",
    "                    'segunda-feira',\n",
    "                    'oficial',\n",
    "                    'lima',\n",
    "                    'carga',\n",
    "                    'pública',\n",
    "                    'campos',\n",
    "                    'anos',\n",
    "                    'horária',\n",
    "                    'deste',\n",
    "                    'pregão',\n",
    "                    'infantil',\n",
    "                    'classificado',\n",
    "                    'casa',\n",
    "                    'disposições',\n",
    "                    'sexta-feira',\n",
    "                    'política',\n",
    "                    'sousa',\n",
    "                    'vigência',\n",
    "                    'guarulhos',\n",
    "                    '-est',\n",
    "                    'palmas',\n",
    "                    'meses',\n",
    "                    'digitalmente',\n",
    "                    'contrário',\n",
    "                    'articulação',\n",
    "                    'jundiaí',\n",
    "                    'jesus',\n",
    "                    'todos',\n",
    "                    'mudou-se',\n",
    "                    'fernandes',\n",
    "                    'aparecida',\n",
    "                    'gomes',\n",
    "                    'quinta-feira',\n",
    "                    'costa',\n",
    "                    'gabinete',\n",
    "                    'vinte',\n",
    "                    'terça-feira',\n",
    "                    'janeiro',\n",
    "                    'vista',\n",
    "                    'federal',\n",
    "                    'setor',\n",
    "                    'jose',\n",
    "                    'localizado'])\n",
    "\n",
    "        stop_words = stop_words.union(jargons)\n",
    "        \n",
    "        meaningful_words = []\n",
    "        \n",
    "        for linha in self.lines:\n",
    "            for word in re.findall(self.w_reg, linha):\n",
    "                word = word.lower()\n",
    "                if (word not in stop_words) and \\\n",
    "                   (len(word) > 3):\n",
    "                    meaningful_words.append(word)\n",
    "                    \n",
    "                    if word not in self.word_frequencies.keys():\n",
    "                        self.word_frequencies[word] = 1\n",
    "                    else:\n",
    "                        self.word_frequencies[word] += 1\n",
    "                \n",
    "        self.all_words = meaningful_words\n",
    "        \n",
    "    def calculate_word_frequencies(self):\n",
    "        for word in self.all_words:\n",
    "            if word not in self.word_frequencies.keys():\n",
    "                self.word_frequencies[word] = len(list(filter(lambda x: word == x,  self.all_words)))\n",
    "\n",
    "        \n",
    "    \n",
    "#     def lemmatize(self):\n",
    "#         pass\n",
    "\n",
    "#     def stemmize(self):\n",
    "#         pass\n",
    "\n",
    "        \n",
    "    def f(self, iterable):\n",
    "        return f\"{str(iterable[0:3] if len(iterable) >= 3 else iterable)[0:-1]}, ...]\"\n",
    "\n",
    "    def __repr__(self):\n",
    "        return self.__str__()\n",
    "    \n",
    "    def __str__(self):\n",
    "        return f\"\"\"\n",
    "Nome do diário                               : {self.name}\n",
    "Palavras chave                               : {self.key_terms}\n",
    "Número de páginas                            : {self.n_of_pages}\n",
    "Linha onde quebra a página                   : {self.f(self.pages)}\n",
    "Média de colunas(do documento)               : {self.average_columns}\n",
    "Espaçamento médio entre colunas (chars)      : {self.average_columns_spacing}\n",
    "Média de colunas(por página)                 : {self.f(self.average_columns_per_page)}\n",
    "Espaçamento médio entre colunas (por pagina) : {self.f(self.average_columns_spacing_per_page)}\"\"\""
   ]
  },
  {
   "cell_type": "code",
   "execution_count": 22,
   "metadata": {
    "colab": {},
    "colab_type": "code",
    "id": "POVLXhBZwMQm"
   },
   "outputs": [],
   "source": [
    "# testes da classe File\n",
    "colab_dir = '/content/drive/Shared drives/Transparência na Pandemia/8-Transparência em tempos de pandemia/Buscas de palavras chaves/EPI/10.txt'\n",
    "local_dir = 'C:/Users/Tali Dantas/Desktop/Buscas de palavras chaves/EPI/2.txt'\n",
    "\n",
    "file_obj = Diary(open(local_dir, 'r',encoding=\"utf8\").readlines(), \"2.txt\", 'EPI')\n",
    "# file_obj.process_all_attributes()\n",
    "\n",
    "file_obj.process_all_attributes()\n",
    "\n",
    "# file_obj.word_frequencies\n"
   ]
  },
  {
   "cell_type": "code",
   "execution_count": 23,
   "metadata": {
    "colab": {},
    "colab_type": "code",
    "id": "bbTUDm-hwMhw"
   },
   "outputs": [],
   "source": [
    "def load_ds(dir : str) -> dict:\n",
    "    \"\"\"load_ds(dir: str) -> dict\n",
    "        INPUT: dir\n",
    "        String referente ao diretório raíz com cada uma das categorias \n",
    "        OUTPUT:\n",
    "        dicionário no formato:\n",
    "        \n",
    "        {\n",
    "              arquivo1.txt : Diary([linha1, linha2, linha3, ...]),\n",
    "              arquivo2.txt : Diary([linha1, linha2, linha3, ...]),\n",
    "              arquivo3.txt : Diary([linha1, linha2, linha3, ...]),\n",
    "                  \n",
    "        },\n",
    "        \n",
    "    \"\"\"\n",
    "    groups = set()\n",
    "    ds = {}\n",
    "\n",
    "    for group in os.listdir(dir):\n",
    "        groups.add(group)\n",
    "        for file in os.listdir(dir+\"/\"+group):\n",
    "            \n",
    "            if file not in ds:\n",
    "                with open(\"/\".join([dir,group,file]), 'r',encoding=\"utf8\") as fd:\n",
    "                    ds[file] = Diary(fd.readlines(), group+\"/\"+file, group)\n",
    "                \n",
    "            else:\n",
    "                ds[file].key_terms.add(group)\n",
    "\n",
    "    return ds,groups"
   ]
  },
  {
   "cell_type": "code",
   "execution_count": 24,
   "metadata": {
    "colab": {},
    "colab_type": "code",
    "id": "RBAnN-EfwipI"
   },
   "outputs": [
    {
     "data": {
      "text/plain": [
       "183.41569995880127"
      ]
     },
     "execution_count": 24,
     "metadata": {},
     "output_type": "execute_result"
    }
   ],
   "source": [
    "import time\n",
    "\n",
    "\n",
    "colab_dir = '/content/drive/Shared drives/Transparência na Pandemia/8-Transparência em tempos de pandemia/Buscas de palavras chaves'\n",
    "local_dir = 'C:/Users/Tali Dantas/Desktop/Buscas de palavras chaves'\n",
    "\n",
    "t0 = time.time()\n",
    "\n",
    "ds,groups = load_ds(local_dir)\n",
    "\n",
    "t1 = time.time()\n",
    "\n",
    "t1 - t0"
   ]
  },
  {
   "cell_type": "code",
   "execution_count": 25,
   "metadata": {
    "colab": {},
    "colab_type": "code",
    "id": "my6arURmaJuJ"
   },
   "outputs": [],
   "source": [
    "freq_words = {}\n",
    "\n",
    "for arq in ds.keys():\n",
    "    for word in ds[arq].all_words:\n",
    "\n",
    "        if word not in freq_words:\n",
    "            freq_words[word] = ds[arq].word_frequencies[word]\n",
    "        else:\n",
    "            freq_words[word] += ds[arq].word_frequencies[word]"
   ]
  },
  {
   "cell_type": "code",
   "execution_count": 26,
   "metadata": {
    "colab": {},
    "colab_type": "code",
    "id": "gnIWCF3uryLt"
   },
   "outputs": [],
   "source": [
    "import pandas as pd\n",
    "import numpy as np"
   ]
  },
  {
   "cell_type": "code",
   "execution_count": 27,
   "metadata": {
    "colab": {},
    "colab_type": "code",
    "id": "dlHrt_w1fwm4"
   },
   "outputs": [
    {
     "data": {
      "text/html": [
       "<div>\n",
       "<style scoped>\n",
       "    .dataframe tbody tr th:only-of-type {\n",
       "        vertical-align: middle;\n",
       "    }\n",
       "\n",
       "    .dataframe tbody tr th {\n",
       "        vertical-align: top;\n",
       "    }\n",
       "\n",
       "    .dataframe thead th {\n",
       "        text-align: right;\n",
       "    }\n",
       "</style>\n",
       "<table border=\"1\" class=\"dataframe\">\n",
       "  <thead>\n",
       "    <tr style=\"text-align: right;\">\n",
       "      <th></th>\n",
       "      <th>Palavras</th>\n",
       "      <th>Frequência</th>\n",
       "    </tr>\n",
       "  </thead>\n",
       "  <tbody>\n",
       "    <tr>\n",
       "      <th>0</th>\n",
       "      <td>penalidade</td>\n",
       "      <td>522179009</td>\n",
       "    </tr>\n",
       "    <tr>\n",
       "      <th>1</th>\n",
       "      <td>defesa</td>\n",
       "      <td>81446827</td>\n",
       "    </tr>\n",
       "    <tr>\n",
       "      <th>2</th>\n",
       "      <td>prévia</td>\n",
       "      <td>81091534</td>\n",
       "    </tr>\n",
       "    <tr>\n",
       "      <th>3</th>\n",
       "      <td>provido</td>\n",
       "      <td>39937098</td>\n",
       "    </tr>\n",
       "    <tr>\n",
       "      <th>4</th>\n",
       "      <td>natureza</td>\n",
       "      <td>34207207</td>\n",
       "    </tr>\n",
       "  </tbody>\n",
       "</table>\n",
       "</div>"
      ],
      "text/plain": [
       "     Palavras  Frequência\n",
       "0  penalidade   522179009\n",
       "1      defesa    81446827\n",
       "2      prévia    81091534\n",
       "3     provido    39937098\n",
       "4    natureza    34207207"
      ]
     },
     "execution_count": 27,
     "metadata": {},
     "output_type": "execute_result"
    }
   ],
   "source": [
    "freq_words_sorted = pd.DataFrame(sorted(freq_words.items(), key=lambda x: x[1], reverse=True), columns=['Palavras', 'Frequência'])\n",
    "freq_words_sorted.head()"
   ]
  },
  {
   "cell_type": "code",
   "execution_count": 28,
   "metadata": {
    "colab": {},
    "colab_type": "code",
    "id": "E4IpgdItoCFu"
   },
   "outputs": [],
   "source": [
    "import matplotlib.pyplot as plt\n",
    "import seaborn as sns"
   ]
  },
  {
   "cell_type": "code",
   "execution_count": 38,
   "metadata": {
    "colab": {},
    "colab_type": "code",
    "id": "gRheBfvDsRBP"
   },
   "outputs": [
    {
     "data": {
      "image/png": "[encoded data removed]",
      "text/plain": [
       "<Figure size 1152x576 with 1 Axes>"
      ]
     },
     "metadata": {
      "needs_background": "light"
     },
     "output_type": "display_data"
    }
   ],
   "source": [
    "plt.figure(figsize=(16,8))\n",
    "\n",
    "sns.barplot(x='Frequência', y='Palavras', data=freq_words_sorted[:30])\n",
    "\n",
    "plt.title('Frequência de palavras')\n",
    "plt.xscale('log')\n",
    "\n",
    "plt.savefig(local_dir + '/Frequência de palavras')"
   ]
  },
  {
   "cell_type": "code",
   "execution_count": 30,
   "metadata": {
    "colab": {},
    "colab_type": "code",
    "id": "aATX1jezzcuc"
   },
   "outputs": [],
   "source": [
    "freq_buscas_dict = {}\n",
    "\n",
    "for k in ds.keys():\n",
    "    freq_buscas_dict[k] = len(ds[k].key_terms)"
   ]
  },
  {
   "cell_type": "code",
   "execution_count": 31,
   "metadata": {
    "colab": {},
    "colab_type": "code",
    "id": "lqpXv1PkPUno"
   },
   "outputs": [
    {
     "data": {
      "image/png": "[encoded data removed]",
      "text/plain": [
       "<Figure size 1152x576 with 1 Axes>"
      ]
     },
     "metadata": {
      "needs_background": "light"
     },
     "output_type": "display_data"
    }
   ],
   "source": [
    "freq_buscas = pd.DataFrame([freq_buscas_dict.keys(), freq_buscas_dict.values()], index=['Arquivos', 'Frequência']).T.sort_values(by='Frequência', ascending=False)\n",
    "\n",
    "plt.figure(figsize=(16,8))\n",
    "\n",
    "sns.barplot(x='Arquivos', y='Frequência', data=freq_buscas[:90])\n",
    "\n",
    "plt.title('Frequência do arquivos por busca de palavra')\n",
    "plt.xticks(rotation=90)\n",
    "\n",
    "plt.show()"
   ]
  },
  {
   "cell_type": "code",
   "execution_count": 32,
   "metadata": {},
   "outputs": [
    {
     "data": {
      "text/plain": [
       "count     1011\n",
       "unique       7\n",
       "top          1\n",
       "freq       474\n",
       "Name: Frequência, dtype: int64"
      ]
     },
     "execution_count": 32,
     "metadata": {},
     "output_type": "execute_result"
    }
   ],
   "source": [
    "freq_buscas['Frequência'].describe()"
   ]
  }
 ],
 "metadata": {
  "colab": {
   "name": "Análise jargões.ipynb",
   "provenance": []
  },
  "kernelspec": {
   "display_name": "Python 3",
   "language": "python",
   "name": "python3"
  },
  "language_info": {
   "codemirror_mode": {
    "name": "ipython",
    "version": 3
   },
   "file_extension": ".py",
   "mimetype": "text/x-python",
   "name": "python",
   "nbconvert_exporter": "python",
   "pygments_lexer": "ipython3",
   "version": "3.8.3"
  }
 },
 "nbformat": 4,
 "nbformat_minor": 1
}
