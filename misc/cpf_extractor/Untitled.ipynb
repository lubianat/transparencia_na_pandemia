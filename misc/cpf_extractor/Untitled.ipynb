{
 "cells": [
  {
   "cell_type": "code",
   "execution_count": 3,
   "metadata": {},
   "outputs": [
    {
     "name": "stdout",
     "output_type": "stream",
     "text": [
      "Defaulting to user installation because normal site-packages is not writeable\n",
      "Looking in indexes: https://test.pypi.org/simple/\n",
      "Collecting cnpj-extractor==0.1.0\n",
      "  Downloading https://test-files.pythonhosted.org/packages/bb/d2/a5df25edff12a1c79ca39c93d5ef79cc8bd4ce8cf7aa2469935fca1c6bc9/cnpj_extractor-0.1.0-py2.py3-none-any.whl (4.9 kB)\n",
      "Installing collected packages: cnpj-extractor\n",
      "Successfully installed cnpj-extractor-0.1.0\n"
     ]
    }
   ],
   "source": [
    "!pip install -i https://test.pypi.org/simple/ cnpj-extractor==0.1.0"
   ]
  },
  {
   "cell_type": "code",
   "execution_count": 5,
   "metadata": {},
   "outputs": [],
   "source": [
    "from cnpj_extractor import cnpj_extractor\n",
    "import pandas as pd\n",
    "result = cnpj_extractor.get_cnpjs_from_folder(\"../data/_teste rápido_/\")"
   ]
  },
  {
   "cell_type": "code",
   "execution_count": 11,
   "metadata": {},
   "outputs": [],
   "source": [
    "cnpj_to_test = result[\"cnpj\"][0]\n",
    "\n",
    "validity_of_cnpjs =[ cnpj_extractor.Cnpj().validate(cnpj_to_test) for cnpj_to_test in result[\"cnpj\"]]\n"
   ]
  },
  {
   "cell_type": "code",
   "execution_count": 13,
   "metadata": {},
   "outputs": [
    {
     "data": {
      "text/plain": [
       "32"
      ]
     },
     "execution_count": 13,
     "metadata": {},
     "output_type": "execute_result"
    }
   ],
   "source": [
    "len(validity_of_cnpjs) - sum(validity_of_cnpjs)"
   ]
  },
  {
   "cell_type": "code",
   "execution_count": 27,
   "metadata": {},
   "outputs": [],
   "source": [
    "import os\n",
    "\n",
    "directory = \"../data/Buscas de palavras chaves\"\n",
    "folders = [x[0] for x in os.walk(directory)]"
   ]
  },
  {
   "cell_type": "code",
   "execution_count": 29,
   "metadata": {},
   "outputs": [
    {
     "name": "stdout",
     "output_type": "stream",
     "text": [
      "../data/Buscas de palavras chaves\n",
      "../data/Buscas de palavras chaves/_estado de Emergência de Saúde Pública_\n",
      "../data/Buscas de palavras chaves/_teste rápido_\n",
      "../data/Buscas de palavras chaves/EPI\n",
      "../data/Buscas de palavras chaves/emergencial\n",
      "../data/Buscas de palavras chaves/Demanda Emergencial Covid-19\n",
      "../data/Buscas de palavras chaves/_ventilador pulmonar_\n",
      "../data/Buscas de palavras chaves/RT-PCR\n",
      "../data/Buscas de palavras chaves/_Equipamentos de Proteção Individual_\n",
      "../data/Buscas de palavras chaves/_ventiladores pulmonares_\n",
      "../data/Buscas de palavras chaves/_Dispensa de licitação_\n",
      "../data/Buscas de palavras chaves/_Hospital de Campanha_\n",
      "../data/Buscas de palavras chaves/.ipynb_checkpoints\n"
     ]
    }
   ],
   "source": [
    "results = []\n",
    "\n",
    "for folder in folders:\n",
    "    print(folder)\n",
    "    result = cnpj_extractor.get_cnpjs_from_folder(folder)\n",
    "    results.append(result)\n",
    "\n",
    "df = pd.concat(results)    "
   ]
  },
  {
   "cell_type": "code",
   "execution_count": 33,
   "metadata": {},
   "outputs": [
    {
     "data": {
      "text/plain": [
       "23070"
      ]
     },
     "execution_count": 33,
     "metadata": {},
     "output_type": "execute_result"
    }
   ],
   "source": [
    "len(set(df[\"cnpj\"]))"
   ]
  },
  {
   "cell_type": "code",
   "execution_count": 34,
   "metadata": {},
   "outputs": [
    {
     "data": {
      "text/plain": [
       "276"
      ]
     },
     "execution_count": 34,
     "metadata": {},
     "output_type": "execute_result"
    }
   ],
   "source": [
    "validity_of_cnpjs_set = [ cnpj_extractor.Cnpj().validate(cnpj_to_test) for cnpj_to_test in set(df[\"cnpj\"])]\n",
    "len(validity_of_cnpjs) - sum(validity_of_cnpjs)"
   ]
  },
  {
   "cell_type": "code",
   "execution_count": 37,
   "metadata": {},
   "outputs": [],
   "source": [
    "validity_of_cnpjs_list =  [ cnpj_extractor.Cnpj().validate(cnpj_to_test) for cnpj_to_test in df[\"cnpj\"]]\n",
    "\n",
    "invalid_cnpj_dfs = df[[not elem for elem in validity_of_cnpjs_list]]"
   ]
  },
  {
   "cell_type": "code",
   "execution_count": 39,
   "metadata": {},
   "outputs": [
    {
     "data": {
      "text/html": [
       "<div>\n",
       "<style scoped>\n",
       "    .dataframe tbody tr th:only-of-type {\n",
       "        vertical-align: middle;\n",
       "    }\n",
       "\n",
       "    .dataframe tbody tr th {\n",
       "        vertical-align: top;\n",
       "    }\n",
       "\n",
       "    .dataframe thead th {\n",
       "        text-align: right;\n",
       "    }\n",
       "</style>\n",
       "<table border=\"1\" class=\"dataframe\">\n",
       "  <thead>\n",
       "    <tr style=\"text-align: right;\">\n",
       "      <th></th>\n",
       "      <th>text</th>\n",
       "      <th>cnpj</th>\n",
       "      <th>count</th>\n",
       "    </tr>\n",
       "  </thead>\n",
       "  <tbody>\n",
       "    <tr>\n",
       "      <th>14</th>\n",
       "      <td>../data/Buscas de palavras chaves/_estado de E...</td>\n",
       "      <td>12.196.993/0001-41</td>\n",
       "      <td>1</td>\n",
       "    </tr>\n",
       "    <tr>\n",
       "      <th>108</th>\n",
       "      <td>../data/Buscas de palavras chaves/_estado de E...</td>\n",
       "      <td>12.196.993/0001-41</td>\n",
       "      <td>1</td>\n",
       "    </tr>\n",
       "    <tr>\n",
       "      <th>186</th>\n",
       "      <td>../data/Buscas de palavras chaves/_estado de E...</td>\n",
       "      <td>27.165.345/0001-90</td>\n",
       "      <td>1</td>\n",
       "    </tr>\n",
       "    <tr>\n",
       "      <th>243</th>\n",
       "      <td>../data/Buscas de palavras chaves/_estado de E...</td>\n",
       "      <td>32.934.693/0001-13</td>\n",
       "      <td>1</td>\n",
       "    </tr>\n",
       "    <tr>\n",
       "      <th>323</th>\n",
       "      <td>../data/Buscas de palavras chaves/_estado de E...</td>\n",
       "      <td>13.015.833/0001-55</td>\n",
       "      <td>5</td>\n",
       "    </tr>\n",
       "  </tbody>\n",
       "</table>\n",
       "</div>"
      ],
      "text/plain": [
       "                                                  text                cnpj  \\\n",
       "14   ../data/Buscas de palavras chaves/_estado de E...  12.196.993/0001-41   \n",
       "108  ../data/Buscas de palavras chaves/_estado de E...  12.196.993/0001-41   \n",
       "186  ../data/Buscas de palavras chaves/_estado de E...  27.165.345/0001-90   \n",
       "243  ../data/Buscas de palavras chaves/_estado de E...  32.934.693/0001-13   \n",
       "323  ../data/Buscas de palavras chaves/_estado de E...  13.015.833/0001-55   \n",
       "\n",
       "     count  \n",
       "14       1  \n",
       "108      1  \n",
       "186      1  \n",
       "243      1  \n",
       "323      5  "
      ]
     },
     "execution_count": 39,
     "metadata": {},
     "output_type": "execute_result"
    }
   ],
   "source": [
    "invalid_cnpj_dfs.head()"
   ]
  },
  {
   "cell_type": "code",
   "execution_count": 42,
   "metadata": {},
   "outputs": [],
   "source": [
    "invalid_cnpj_dfs.query(('count > 2')).to_csv(\"more_than_2_counts_invalid.csv\")"
   ]
  },
  {
   "cell_type": "code",
   "execution_count": 43,
   "metadata": {},
   "outputs": [],
   "source": [
    "invalid_cnpj_dfs.to_csv(\"invalid.csv\")"
   ]
  },
  {
   "cell_type": "code",
   "execution_count": 44,
   "metadata": {},
   "outputs": [],
   "source": [
    "df.to_csv(\"all_cnpjs.csv\")\n"
   ]
  },
  {
   "cell_type": "code",
   "execution_count": null,
   "metadata": {},
   "outputs": [],
   "source": []
  }
 ],
 "metadata": {
  "kernelspec": {
   "display_name": "Python 3",
   "language": "python",
   "name": "python3"
  },
  "language_info": {
   "codemirror_mode": {
    "name": "ipython",
    "version": 3
   },
   "file_extension": ".py",
   "mimetype": "text/x-python",
   "name": "python",
   "nbconvert_exporter": "python",
   "pygments_lexer": "ipython3",
   "version": "3.7.5"
  }
 },
 "nbformat": 4,
 "nbformat_minor": 4
}
