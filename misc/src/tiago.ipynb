{
 "cells": [
  {
   "cell_type": "code",
   "execution_count": 1,
   "metadata": {},
   "outputs": [],
   "source": [
    "import pandas as pd\n",
    "import numpy as np\n",
    "import pprint \n",
    "import os\n",
    "import nltk\n",
    "from sklearn.feature_extraction.text import TfidfVectorizer\n",
    "from sklearn.feature_extraction.text import CountVectorizer, TfidfTransformer\n",
    "from sklearn.decomposition import TruncatedSVD\n",
    "import matplotlib.pyplot as plt\n",
    "from IPython.display import clear_output\n",
    "import pandas as pd\n",
    "# import matplotlib\n",
    "\n",
    "import seaborn as sns\n",
    "%matplotlib inline\n",
    "\n",
    "\n",
    "\n"
   ]
  },
  {
   "cell_type": "code",
   "execution_count": 2,
   "metadata": {},
   "outputs": [],
   "source": [
    "def get_2d_representation(file_content_splitted):\n",
    "    vectorizer = TfidfVectorizer(stop_words=nltk.corpus.stopwords.words('portuguese'))\n",
    "    X = vectorizer.fit_transform(file_content_splitted)\n",
    "    SVD = TruncatedSVD(n_components=2).fit(X)\n",
    "    data2D = SVD.transform(X)\n",
    "    return(data2D)\n",
    "\n",
    "\n",
    "\n",
    "def plot_corpus(file_content_splitted):\n",
    "    n_matches = str(len(file_content_splitted))\n",
    "    print( 'there are ' + n_matches + \" matches\")\n",
    "    print('\\n')\n",
    "    vectorizer = TfidfVectorizer(stop_words=nltk.corpus.stopwords.words('portuguese'))\n",
    "    X = vectorizer.fit_transform(file_content_splitted)\n",
    "    SVD = TruncatedSVD(n_components=2).fit(X)\n",
    "    data2D = SVD.transform(X)\n",
    "    plt.scatter(data2D[:,0], data2D[:,1])\n",
    "    plt.show()\n",
    "    \n",
    "def print_tipos():\n",
    "        print(\"\"\"\n",
    "     Tipos possíveis:\n",
    "     1 - compra (de ventilador ou acessório)\n",
    "     2 - reparo/manutenção (de ventilador ou acessório)\n",
    "     3 - aviso de convocação para licitação\n",
    "     4 - registro de preços\n",
    "     5 - licitação fracassada\n",
    "     6 - outro    \n",
    "    \"\"\")\n",
    "    \n",
    "def descrever_tipo(classes):\n",
    "    \n",
    "    tipo2name= {\"1\" : \"compra\",\n",
    "        \"2\" : \"reparo\",\n",
    "        \"3\" : \"aviso de licitação\",\n",
    "        \"4\" : \"registro de preços\",\n",
    "        \"5\" : \"licitação fracassada\",\n",
    "        \"6\" : \"outro\"}\n",
    "    \n",
    "    return([tipo2name[k] for k in classes])\n",
    "        \n",
    "    \n",
    "    \n",
    "    \n",
    "def plot_corpus_with_classes(df, filename):\n",
    "    print_tipos()\n",
    "    g = sns.scatterplot(x=\"d1\", y=\"d2\",\n",
    "              hue=\"classes\",\n",
    "              data=df);\n",
    "\n",
    "    plot = g.get_figure()\n",
    "    plot.savefig(filename)\n",
    "    \n",
    "    \n",
    "def classificar(file_content_splitted):\n",
    "    classes = []\n",
    "\n",
    "    if input('classificar?(y/n)') == 'y':\n",
    "        for i in file_content_splitted:\n",
    "            print(i)\n",
    "            print_tipos()\n",
    "            class_of_snippet = input(\"Qual é o tipo que mais se aproxima desse snippet?\")\n",
    "\n",
    "            classes.append(class_of_snippet)\n",
    "            clear_output()\n",
    "    \n",
    "    return(classes)\n",
    "    print(classes)"
   ]
  },
  {
   "cell_type": "code",
   "execution_count": 3,
   "metadata": {},
   "outputs": [],
   "source": [
    "dir = '../data/_ventilador pulmonar_//'\n",
    "keyword = \"ventilador pulmonar\"\n",
    "\n"
   ]
  },
  {
   "cell_type": "code",
   "execution_count": 4,
   "metadata": {},
   "outputs": [],
   "source": [
    "! grep -r -i -C 10 --group-separator=\"==========\" \"$keyword\" \"$dir\" > temp.txt\n",
    "! sed -i 's_.*txt__g' temp.txt"
   ]
  },
  {
   "cell_type": "code",
   "execution_count": 5,
   "metadata": {},
   "outputs": [
    {
     "name": "stdout",
     "output_type": "stream",
     "text": [
      "there are 19 matches\n",
      "\n",
      "\n"
     ]
    },
    {
     "data": {
      "image/png": "[encoded data removed]",
      "text/plain": [
       "<Figure size 432x288 with 1 Axes>"
      ]
     },
     "metadata": {
      "needs_background": "light"
     },
     "output_type": "display_data"
    }
   ],
   "source": [
    "with open(\"temp.txt\", \"r\") as selected_contexts_file:\n",
    "  file_content = selected_contexts_file.read()\n",
    "  file_content_splitted = file_content.split(\"==========\")\n",
    "\n",
    "plot_corpus(file_content_splitted)\n"
   ]
  },
  {
   "cell_type": "code",
   "execution_count": 6,
   "metadata": {},
   "outputs": [
    {
     "name": "stdin",
     "output_type": "stream",
     "text": [
      "classificar?(y/n) n\n"
     ]
    }
   ],
   "source": [
    "classes = classificar(file_content_splitted)"
   ]
  },
  {
   "cell_type": "code",
   "execution_count": 7,
   "metadata": {},
   "outputs": [],
   "source": [
    "classes = ['compra', 'convocação', 'reparo'\n",
    "           , 'registro', 'reparo', 'reparo', 'convocação', 'registro', 'convocação', 'convocação', 'reparo', 'convocação', 'convocação', 'registro', 'convocação', 'licitação fracassada', 'reparo', 'registro', 'compra']\n",
    "\n",
    "data2D = get_2d_representation(file_content_splitted)\n",
    "\n",
    "df = pd.DataFrame({\"classes\":classes,\n",
    "                   \"text\":file_content_splitted,\n",
    "                   \"d1\": data2D[:,0],\n",
    "                   \"d2\": data2D[:,1]})"
   ]
  },
  {
   "cell_type": "code",
   "execution_count": 8,
   "metadata": {},
   "outputs": [
    {
     "name": "stdout",
     "output_type": "stream",
     "text": [
      "\n",
      "     Tipos possíveis:\n",
      "     1 - compra (de ventilador ou acessório)\n",
      "     2 - reparo/manutenção (de ventilador ou acessório)\n",
      "     3 - aviso de convocação para licitação\n",
      "     4 - registro de preços\n",
      "     5 - licitação fracassada\n",
      "     6 - outro    \n",
      "    \n"
     ]
    },
    {
     "data": {
      "image/png": "[encoded data removed]",
      "text/plain": [
       "<Figure size 432x288 with 1 Axes>"
      ]
     },
     "metadata": {
      "needs_background": "light"
     },
     "output_type": "display_data"
    }
   ],
   "source": [
    "plot_corpus_with_classes(df, \"ventilador_raw.png\")"
   ]
  },
  {
   "cell_type": "code",
   "execution_count": 89,
   "metadata": {},
   "outputs": [
    {
     "name": "stdout",
     "output_type": "stream",
     "text": [
      "there are 19 matches\n",
      "\n",
      "\n"
     ]
    },
    {
     "data": {
      "image/png": "[encoded data removed]",
      "text/plain": [
       "<Figure size 432x288 with 1 Axes>"
      ]
     },
     "metadata": {
      "needs_background": "light"
     },
     "output_type": "display_data"
    }
   ],
   "source": [
    "dir = '../data/ventilado_pulmonar_linearizado//'\n",
    "keyword = \"ventilador pulmonar\"\n",
    "\n",
    "! grep -r -i -C 10 --group-separator=\"==========\" \"$keyword\" \"$dir\" > temp.txt\n",
    "! sed -i 's_.*txt__g' temp.txt\n",
    "\n",
    "with open(\"temp.txt\", \"r\") as selected_contexts_file:\n",
    "  file_content = selected_contexts_file.read()\n",
    "  file_content_splitted = file_content.split(\"==========\")\n",
    "\n",
    "plot_corpus(file_content_splitted)"
   ]
  },
  {
   "cell_type": "code",
   "execution_count": 9,
   "metadata": {},
   "outputs": [
    {
     "name": "stdin",
     "output_type": "stream",
     "text": [
      "classificar?(y/n) n\n"
     ]
    }
   ],
   "source": [
    "classes = classificar(file_content_splitted)"
   ]
  },
  {
   "cell_type": "code",
   "execution_count": 11,
   "metadata": {},
   "outputs": [
    {
     "name": "stdout",
     "output_type": "stream",
     "text": [
      "['compra', 'aviso de licitação', 'reparo', 'compra', 'reparo', 'reparo', 'aviso de licitação', 'outro', 'registro de preços', 'registro de preços', 'reparo', 'aviso de licitação', 'aviso de licitação', 'registro de preços', 'aviso de licitação', 'licitação fracassada', 'reparo', 'registro de preços', 'compra']\n",
      "\n",
      "     Tipos possíveis:\n",
      "     1 - compra (de ventilador ou acessório)\n",
      "     2 - reparo/manutenção (de ventilador ou acessório)\n",
      "     3 - aviso de convocação para licitação\n",
      "     4 - registro de preços\n",
      "     5 - licitação fracassada\n",
      "     6 - outro    \n",
      "    \n"
     ]
    },
    {
     "data": {
      "image/png": "[encoded data removed]",
      "text/plain": [
       "<Figure size 432x288 with 1 Axes>"
      ]
     },
     "metadata": {
      "needs_background": "light"
     },
     "output_type": "display_data"
    }
   ],
   "source": [
    "print(classes)\n",
    "classes = ['1', '3', '2', '1', '2', '2', '3', '6', '4', '4', '2', '3', '3', '4', '3', '5', '2', '4', '1']\n",
    "classes = descrever_tipo(classes)\n",
    "data2D = get_2d_representation(file_content_splitted)\n",
    "\n",
    "df = pd.DataFrame({\"classes\":classes,\n",
    "                   \"text\":file_content_splitted,\n",
    "                   \"d1\": data2D[:,0],\n",
    "                   \"d2\": data2D[:,1]})\n",
    "plot_corpus_with_classes(df, \"ventilador_linearized.png\")"
   ]
  },
  {
   "cell_type": "code",
   "execution_count": null,
   "metadata": {},
   "outputs": [],
   "source": []
  }
 ],
 "metadata": {
  "kernelspec": {
   "display_name": "Python 3",
   "language": "python",
   "name": "python3"
  },
  "language_info": {
   "codemirror_mode": {
    "name": "ipython",
    "version": 3
   },
   "file_extension": ".py",
   "mimetype": "text/x-python",
   "name": "python",
   "nbconvert_exporter": "python",
   "pygments_lexer": "ipython3",
   "version": "3.7.5"
  }
 },
 "nbformat": 4,
 "nbformat_minor": 4
}
