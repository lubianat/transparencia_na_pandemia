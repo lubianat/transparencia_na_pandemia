{
 "cells": [
  {
   "cell_type": "code",
   "execution_count": 3,
   "metadata": {},
   "outputs": [],
   "source": [
    "import comprei.utils as cp\n",
    "import pandas as pd\n",
    "\n",
    "dir = '../data/demo//'\n",
    "keyword = \"teste rápido\""
   ]
  },
  {
   "cell_type": "code",
   "execution_count": 4,
   "metadata": {},
   "outputs": [
    {
     "name": "stdout",
     "output_type": "stream",
     "text": [
      "There are 4 contexts\n",
      "\n"
     ]
    }
   ],
   "source": [
    "! grep -r -i -C 10 --group-separator=\"==========\" \"$keyword\" \"$dir\" > temp.txt\n",
    "! sed -i 's_.*txt__g' temp.txt\n",
    "\n",
    "with open(\"temp.txt\", \"r\") as f:\n",
    "  corpus = f.read().split(\"==========\")\n",
    "\n",
    "print( 'There are ' + str(len(corpus)) + \" contexts\" + '\\n')"
   ]
  },
  {
   "cell_type": "code",
   "execution_count": 5,
   "metadata": {},
   "outputs": [
    {
     "data": {
      "text/html": [
       "<div>\n",
       "<style scoped>\n",
       "    .dataframe tbody tr th:only-of-type {\n",
       "        vertical-align: middle;\n",
       "    }\n",
       "\n",
       "    .dataframe tbody tr th {\n",
       "        vertical-align: top;\n",
       "    }\n",
       "\n",
       "    .dataframe thead th {\n",
       "        text-align: right;\n",
       "    }\n",
       "</style>\n",
       "<table border=\"1\" class=\"dataframe\">\n",
       "  <thead>\n",
       "    <tr style=\"text-align: right;\">\n",
       "      <th></th>\n",
       "      <th>text</th>\n",
       "      <th>id</th>\n",
       "    </tr>\n",
       "  </thead>\n",
       "  <tbody>\n",
       "    <tr>\n",
       "      <th>0</th>\n",
       "      <td>-Públicos da Administração Direta e Indireta d...</td>\n",
       "      <td>text_0</td>\n",
       "    </tr>\n",
       "    <tr>\n",
       "      <th>1</th>\n",
       "      <td>\\n-\\n-\\n-\\n-         DESIGNA, conforme discipl...</td>\n",
       "      <td>text_1</td>\n",
       "    </tr>\n",
       "    <tr>\n",
       "      <th>2</th>\n",
       "      <td>\\n-                                           ...</td>\n",
       "      <td>text_2</td>\n",
       "    </tr>\n",
       "    <tr>\n",
       "      <th>3</th>\n",
       "      <td>\\n-\\n-                                        ...</td>\n",
       "      <td>text_3</td>\n",
       "    </tr>\n",
       "  </tbody>\n",
       "</table>\n",
       "</div>"
      ],
      "text/plain": [
       "                                                text      id\n",
       "0  -Públicos da Administração Direta e Indireta d...  text_0\n",
       "1  \\n-\\n-\\n-\\n-         DESIGNA, conforme discipl...  text_1\n",
       "2  \\n-                                           ...  text_2\n",
       "3  \\n-\\n-                                        ...  text_3"
      ]
     },
     "execution_count": 5,
     "metadata": {},
     "output_type": "execute_result"
    }
   ],
   "source": [
    "df = pd.DataFrame({'text':corpus})\n",
    "df[\"id\"] = [\"text_\" + str(i) for i in df.index]\n",
    "\n",
    "df"
   ]
  },
  {
   "cell_type": "code",
   "execution_count": 7,
   "metadata": {},
   "outputs": [
    {
     "ename": "KeyboardInterrupt",
     "evalue": "Interrupted by user",
     "output_type": "error",
     "traceback": [
      "\u001b[0;31m---------------------------------------------------------------------------\u001b[0m",
      "\u001b[0;31mKeyboardInterrupt\u001b[0m                         Traceback (most recent call last)",
      "\u001b[0;32m<ipython-input-7-f7b289241d83>\u001b[0m in \u001b[0;36m<module>\u001b[0;34m\u001b[0m\n\u001b[0;32m----> 1\u001b[0;31m \u001b[0mcp\u001b[0m\u001b[0;34m.\u001b[0m\u001b[0mclassificar\u001b[0m\u001b[0;34m(\u001b[0m\u001b[0mdf\u001b[0m\u001b[0;34m)\u001b[0m\u001b[0;34m\u001b[0m\u001b[0;34m\u001b[0m\u001b[0m\n\u001b[0m",
      "\u001b[0;32m~/Documents/lab_related/doutorado/school/mac6967/transparencia_na_pandemia/misc/src/comprei/utils.py\u001b[0m in \u001b[0;36mclassificar\u001b[0;34m(df)\u001b[0m\n\u001b[1;32m     97\u001b[0m         \u001b[0mclear_output\u001b[0m\u001b[0;34m(\u001b[0m\u001b[0;34m)\u001b[0m\u001b[0;34m\u001b[0m\u001b[0;34m\u001b[0m\u001b[0m\n\u001b[1;32m     98\u001b[0m \u001b[0;34m\u001b[0m\u001b[0m\n\u001b[0;32m---> 99\u001b[0;31m         \u001b[0;32mif\u001b[0m \u001b[0minput\u001b[0m\u001b[0;34m(\u001b[0m\u001b[0;34m'continuar?(y/n)'\u001b[0m\u001b[0;34m)\u001b[0m \u001b[0;34m==\u001b[0m \u001b[0;34m'n'\u001b[0m\u001b[0;34m:\u001b[0m\u001b[0;34m\u001b[0m\u001b[0;34m\u001b[0m\u001b[0m\n\u001b[0m\u001b[1;32m    100\u001b[0m             \u001b[0;32mbreak\u001b[0m\u001b[0;34m\u001b[0m\u001b[0;34m\u001b[0m\u001b[0m\n\u001b[1;32m    101\u001b[0m \u001b[0;34m\u001b[0m\u001b[0m\n",
      "\u001b[0;32m~/.local/lib/python3.7/site-packages/ipykernel/kernelbase.py\u001b[0m in \u001b[0;36mraw_input\u001b[0;34m(self, prompt)\u001b[0m\n\u001b[1;32m    861\u001b[0m             \u001b[0mself\u001b[0m\u001b[0;34m.\u001b[0m\u001b[0m_parent_ident\u001b[0m\u001b[0;34m,\u001b[0m\u001b[0;34m\u001b[0m\u001b[0;34m\u001b[0m\u001b[0m\n\u001b[1;32m    862\u001b[0m             \u001b[0mself\u001b[0m\u001b[0;34m.\u001b[0m\u001b[0m_parent_header\u001b[0m\u001b[0;34m,\u001b[0m\u001b[0;34m\u001b[0m\u001b[0;34m\u001b[0m\u001b[0m\n\u001b[0;32m--> 863\u001b[0;31m             \u001b[0mpassword\u001b[0m\u001b[0;34m=\u001b[0m\u001b[0;32mFalse\u001b[0m\u001b[0;34m,\u001b[0m\u001b[0;34m\u001b[0m\u001b[0;34m\u001b[0m\u001b[0m\n\u001b[0m\u001b[1;32m    864\u001b[0m         )\n\u001b[1;32m    865\u001b[0m \u001b[0;34m\u001b[0m\u001b[0m\n",
      "\u001b[0;32m~/.local/lib/python3.7/site-packages/ipykernel/kernelbase.py\u001b[0m in \u001b[0;36m_input_request\u001b[0;34m(self, prompt, ident, parent, password)\u001b[0m\n\u001b[1;32m    902\u001b[0m             \u001b[0;32mexcept\u001b[0m \u001b[0mKeyboardInterrupt\u001b[0m\u001b[0;34m:\u001b[0m\u001b[0;34m\u001b[0m\u001b[0;34m\u001b[0m\u001b[0m\n\u001b[1;32m    903\u001b[0m                 \u001b[0;31m# re-raise KeyboardInterrupt, to truncate traceback\u001b[0m\u001b[0;34m\u001b[0m\u001b[0;34m\u001b[0m\u001b[0;34m\u001b[0m\u001b[0m\n\u001b[0;32m--> 904\u001b[0;31m                 \u001b[0;32mraise\u001b[0m \u001b[0mKeyboardInterrupt\u001b[0m\u001b[0;34m(\u001b[0m\u001b[0;34m\"Interrupted by user\"\u001b[0m\u001b[0;34m)\u001b[0m \u001b[0;32mfrom\u001b[0m \u001b[0;32mNone\u001b[0m\u001b[0;34m\u001b[0m\u001b[0;34m\u001b[0m\u001b[0m\n\u001b[0m\u001b[1;32m    905\u001b[0m             \u001b[0;32mexcept\u001b[0m \u001b[0mException\u001b[0m \u001b[0;32mas\u001b[0m \u001b[0me\u001b[0m\u001b[0;34m:\u001b[0m\u001b[0;34m\u001b[0m\u001b[0;34m\u001b[0m\u001b[0m\n\u001b[1;32m    906\u001b[0m                 \u001b[0mself\u001b[0m\u001b[0;34m.\u001b[0m\u001b[0mlog\u001b[0m\u001b[0;34m.\u001b[0m\u001b[0mwarning\u001b[0m\u001b[0;34m(\u001b[0m\u001b[0;34m\"Invalid Message:\"\u001b[0m\u001b[0;34m,\u001b[0m \u001b[0mexc_info\u001b[0m\u001b[0;34m=\u001b[0m\u001b[0;32mTrue\u001b[0m\u001b[0;34m)\u001b[0m\u001b[0;34m\u001b[0m\u001b[0;34m\u001b[0m\u001b[0m\n",
      "\u001b[0;31mKeyboardInterrupt\u001b[0m: Interrupted by user"
     ]
    }
   ],
   "source": [
    "cp.classificar(df)"
   ]
  },
  {
   "cell_type": "code",
   "execution_count": null,
   "metadata": {},
   "outputs": [],
   "source": [
    "! pip install -i https://test.pypi.org/simple/ GazettesProcessor==0.0.1"
   ]
  },
  {
   "cell_type": "code",
   "execution_count": 17,
   "metadata": {},
   "outputs": [
    {
     "name": "stdout",
     "output_type": "stream",
     "text": [
      "2.0\n",
      "Parsing 1190.txt\n",
      "1.9782608695652173\n",
      "Parsing 1177.txt\n",
      "1.4647887323943662\n",
      "Parsing 1224.txt\n",
      "4.107142857142857\n",
      "Parsing 1256.txt\n"
     ]
    }
   ],
   "source": [
    "import gazette_processor.gazette as gz\n",
    "import os\n",
    "\n",
    "input_folder = \"../data/demo/\"\n",
    "output_folder = \"../data/demo_linear/\"\n",
    "\n",
    "for file in os.listdir(input_folder):\n",
    "    g =  gz.Gazette(input_folder + '/' + file,\"\", \"\")\n",
    "\n",
    "    print(f\"Parsing {file}\")\n",
    "    with open( output_folder + \"/\" + file, 'w') as f:\n",
    "            f.write(g.linear_text)\n",
    "\n",
    "\n"
   ]
  },
  {
   "cell_type": "code",
   "execution_count": 8,
   "metadata": {},
   "outputs": [],
   "source": [
    "dir = '../data/demo_linear//'\n",
    "keyword = \"teste rápido\""
   ]
  },
  {
   "cell_type": "code",
   "execution_count": 9,
   "metadata": {},
   "outputs": [],
   "source": [
    "! grep -r -i -C 10 --group-separator=\"==========\" \"$keyword\" \"$dir\" > temp.txt\n",
    "! sed -i 's_.*txt__g' temp.txt"
   ]
  },
  {
   "cell_type": "code",
   "execution_count": 10,
   "metadata": {},
   "outputs": [
    {
     "name": "stdout",
     "output_type": "stream",
     "text": [
      "There are 4 contexts\n",
      "\n"
     ]
    }
   ],
   "source": [
    "with open(\"temp.txt\", \"r\") as f:\n",
    "  corpus = f.read().split(\"==========\")\n",
    "\n",
    "print( 'There are ' + str(len(corpus)) + \" contexts\" + '\\n')\n"
   ]
  },
  {
   "cell_type": "code",
   "execution_count": 11,
   "metadata": {},
   "outputs": [],
   "source": [
    "df = pd.DataFrame({'text':corpus})\n",
    "df[\"id\"] = [\"text_\" + str(i) for i in df.index]"
   ]
  },
  {
   "cell_type": "code",
   "execution_count": null,
   "metadata": {},
   "outputs": [
    {
     "name": "stdout",
     "output_type": "stream",
     "text": [
      "-       CONSIDERANDO a norma do artigo 131 da Lei                      \n",
      "-Complementar nº 008/99 que Institui o Estatuto dos Servidores         \n",
      "-Públicos da Administração Direta e Indireta dos Poderes do            \n",
      "-Município de Palmas.                                                  \n",
      "-        RESOLVE:                                                      \n",
      "-        Art. 1º Designar as servidoras Ana Luísa Galindo Bezerra,     \n",
      "-matrícula funcional nº 413030549 e Edith Ione Araújo Pontes,          \n",
      "-matrícula funcional nº 413018810, como responsáveis pelo controle     \n",
      "-da Requisição Administrativa, oriunda da Portaria nº 440, publicada   \n",
      "-no Diário Oficial do Município nº 2.475, do Processo nº 2020019705,   \n",
      ":que tem por objeto a aquisição de Teste Rápido para testar o maior    \n",
      "-número possível de pessoas que apresentam sintomas para o             \n",
      "-Covid-19 que procuram a Rede Municipal de Saúde de Palmas.            \n",
      "-\f",
      "\n",
      "- MUNICÍPIO DE PALMAS Nº 2.491 - SEGUNDA-FEIRA, 18 DE MAIO DE 2020\n",
      "-          Art. 2 Esta Portaria entra em vigor na data de sua\n",
      "-  publicação, retroagindo seus efeitos a 23 de abril de 2020.\n",
      "-         GABINETE DO SECRETÁRIO DA SAÚDE, aos 18 dias do\n",
      "-  mês de maio de 2020.\n",
      "-                     DANIEL BORINI ZEMUNER\n",
      "-                       Secretário da Saúde\n",
      "\n",
      "\n",
      "     Tipos possíveis:\n",
      "     1 - compra     \n",
      "     2 - reparo\n",
      "     3 - aviso de convocação para licitação\n",
      "     4 - registro de preços\n",
      "     5 - licitação fracassada\n",
      "     6 - outro    \n",
      "    \n"
     ]
    }
   ],
   "source": [
    "cp.classificar(df)"
   ]
  },
  {
   "cell_type": "code",
   "execution_count": null,
   "metadata": {},
   "outputs": [],
   "source": []
  }
 ],
 "metadata": {
  "kernelspec": {
   "display_name": "Python 3",
   "language": "python",
   "name": "python3"
  },
  "language_info": {
   "codemirror_mode": {
    "name": "ipython",
    "version": 3
   },
   "file_extension": ".py",
   "mimetype": "text/x-python",
   "name": "python",
   "nbconvert_exporter": "python",
   "pygments_lexer": "ipython3",
   "version": "3.7.5"
  }
 },
 "nbformat": 4,
 "nbformat_minor": 4
}
