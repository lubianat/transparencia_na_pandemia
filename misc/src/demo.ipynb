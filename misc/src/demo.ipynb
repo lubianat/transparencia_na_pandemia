{
 "cells": [
  {
   "cell_type": "code",
   "execution_count": 20,
   "metadata": {},
   "outputs": [],
   "source": [
    "import comprei.utils as cp\n",
    "import pandas as pd\n",
    "dir = '../data/demo//'\n",
    "keyword = \"teste rápido\""
   ]
  },
  {
   "cell_type": "code",
   "execution_count": 21,
   "metadata": {},
   "outputs": [
    {
     "name": "stdout",
     "output_type": "stream",
     "text": [
      "There are 4 contexts\n",
      "\n"
     ]
    }
   ],
   "source": [
    "! grep -r -i -C 10 --group-separator=\"==========\" \"$keyword\" \"$dir\" > temp.txt\n",
    "! sed -i 's_.*txt__g' temp.txt\n",
    "\n",
    "with open(\"temp.txt\", \"r\") as f:\n",
    "  corpus = f.read().split(\"==========\")\n",
    "\n",
    "print( 'There are ' + str(len(corpus)) + \" contexts\" + '\\n')"
   ]
  },
  {
   "cell_type": "code",
   "execution_count": 22,
   "metadata": {},
   "outputs": [
    {
     "name": "stdout",
     "output_type": "stream",
     "text": [
      "\n",
      "     Tipos possíveis:\n",
      "     1 - compra     \n",
      "     2 - reparo\n",
      "     3 - aviso de convocação para licitação\n",
      "     4 - registro de preços\n",
      "     5 - licitação fracassada\n",
      "     6 - outro    \n",
      "    \n"
     ]
    }
   ],
   "source": [
    "cp.print_tipos()"
   ]
  },
  {
   "cell_type": "code",
   "execution_count": 23,
   "metadata": {},
   "outputs": [
    {
     "data": {
      "text/html": [
       "<div>\n",
       "<style scoped>\n",
       "    .dataframe tbody tr th:only-of-type {\n",
       "        vertical-align: middle;\n",
       "    }\n",
       "\n",
       "    .dataframe tbody tr th {\n",
       "        vertical-align: top;\n",
       "    }\n",
       "\n",
       "    .dataframe thead th {\n",
       "        text-align: right;\n",
       "    }\n",
       "</style>\n",
       "<table border=\"1\" class=\"dataframe\">\n",
       "  <thead>\n",
       "    <tr style=\"text-align: right;\">\n",
       "      <th></th>\n",
       "      <th>text</th>\n",
       "      <th>id</th>\n",
       "    </tr>\n",
       "  </thead>\n",
       "  <tbody>\n",
       "    <tr>\n",
       "      <th>0</th>\n",
       "      <td>-Públicos da Administração Direta e Indireta d...</td>\n",
       "      <td>text_0</td>\n",
       "    </tr>\n",
       "    <tr>\n",
       "      <th>1</th>\n",
       "      <td>\\n-\\n-\\n-\\n-         DESIGNA, conforme discipl...</td>\n",
       "      <td>text_1</td>\n",
       "    </tr>\n",
       "    <tr>\n",
       "      <th>2</th>\n",
       "      <td>\\n-                                           ...</td>\n",
       "      <td>text_2</td>\n",
       "    </tr>\n",
       "    <tr>\n",
       "      <th>3</th>\n",
       "      <td>\\n-\\n-                                        ...</td>\n",
       "      <td>text_3</td>\n",
       "    </tr>\n",
       "  </tbody>\n",
       "</table>\n",
       "</div>"
      ],
      "text/plain": [
       "                                                text      id\n",
       "0  -Públicos da Administração Direta e Indireta d...  text_0\n",
       "1  \\n-\\n-\\n-\\n-         DESIGNA, conforme discipl...  text_1\n",
       "2  \\n-                                           ...  text_2\n",
       "3  \\n-\\n-                                        ...  text_3"
      ]
     },
     "execution_count": 23,
     "metadata": {},
     "output_type": "execute_result"
    }
   ],
   "source": [
    "df = pd.DataFrame({'text':corpus})\n",
    "df[\"id\"] = [\"text_\" + str(i) for i in df.index]\n",
    "\n",
    "df"
   ]
  },
  {
   "cell_type": "code",
   "execution_count": 7,
   "metadata": {},
   "outputs": [
    {
     "name": "stdin",
     "output_type": "stream",
     "text": [
      "continuar?(y/n) n\n"
     ]
    }
   ],
   "source": [
    "classes = cp.classificar(df)"
   ]
  },
  {
   "cell_type": "code",
   "execution_count": 8,
   "metadata": {},
   "outputs": [
    {
     "name": "stdout",
     "output_type": "stream",
     "text": [
      "Defaulting to user installation because normal site-packages is not writeable\n",
      "Looking in indexes: https://test.pypi.org/simple/\n",
      "Requirement already satisfied: GazettesProcessor==0.0.1 in /home/lubianat/.local/lib/python3.7/site-packages (0.0.1)\n"
     ]
    }
   ],
   "source": [
    "! pip install -i https://test.pypi.org/simple/ GazettesProcessor==0.0.1"
   ]
  },
  {
   "cell_type": "code",
   "execution_count": 9,
   "metadata": {},
   "outputs": [
    {
     "name": "stdout",
     "output_type": "stream",
     "text": [
      "2.0\n",
      "Parsing 1190.txt\n",
      "1.9782608695652173\n",
      "Parsing 1177.txt\n",
      "1.4647887323943662\n",
      "Parsing 1224.txt\n",
      "4.107142857142857\n",
      "Parsing 1256.txt\n"
     ]
    }
   ],
   "source": [
    "import gazette_processor.gazette as gz\n",
    "import os\n",
    "\n",
    "input_folder = \"../data/demo/\"\n",
    "output_folder = \"../data/demo_linear/\"\n",
    "\n",
    "for file in os.listdir(input_folder):\n",
    "    g =  gz.Gazette(input_folder + '/' + file,\"\", \"\")\n",
    "\n",
    "    print(f\"Parsing {file}\")\n",
    "    with open( output_folder + \"/\" + file, 'w') as f:\n",
    "            f.write(g.linear_text)\n",
    "\n",
    "\n"
   ]
  },
  {
   "cell_type": "code",
   "execution_count": 10,
   "metadata": {},
   "outputs": [],
   "source": [
    "dir = '../data/demo_linear//'\n",
    "keyword = \"teste rápido\""
   ]
  },
  {
   "cell_type": "code",
   "execution_count": 11,
   "metadata": {},
   "outputs": [],
   "source": [
    "! grep -r -i -C 10 --group-separator=\"==========\" \"$keyword\" \"$dir\" > temp.txt\n",
    "! sed -i 's_.*txt__g' temp.txt"
   ]
  },
  {
   "cell_type": "code",
   "execution_count": 12,
   "metadata": {},
   "outputs": [
    {
     "name": "stdout",
     "output_type": "stream",
     "text": [
      "There are 4 contexts\n",
      "\n"
     ]
    }
   ],
   "source": [
    "with open(\"temp.txt\", \"r\") as f:\n",
    "  corpus = f.read().split(\"==========\")\n",
    "\n",
    "print( 'There are ' + str(len(corpus)) + \" contexts\" + '\\n')\n"
   ]
  },
  {
   "cell_type": "code",
   "execution_count": 14,
   "metadata": {},
   "outputs": [
    {
     "data": {
      "text/html": [
       "<div>\n",
       "<style scoped>\n",
       "    .dataframe tbody tr th:only-of-type {\n",
       "        vertical-align: middle;\n",
       "    }\n",
       "\n",
       "    .dataframe tbody tr th {\n",
       "        vertical-align: top;\n",
       "    }\n",
       "\n",
       "    .dataframe thead th {\n",
       "        text-align: right;\n",
       "    }\n",
       "</style>\n",
       "<table border=\"1\" class=\"dataframe\">\n",
       "  <thead>\n",
       "    <tr style=\"text-align: right;\">\n",
       "      <th></th>\n",
       "      <th>text</th>\n",
       "      <th>id</th>\n",
       "    </tr>\n",
       "  </thead>\n",
       "  <tbody>\n",
       "    <tr>\n",
       "      <th>0</th>\n",
       "      <td>-       CONSIDERANDO a norma do artigo 131 da ...</td>\n",
       "      <td>text_0</td>\n",
       "    </tr>\n",
       "    <tr>\n",
       "      <th>1</th>\n",
       "      <td>\\n-\\n-\\n-\\n-         DESIGNA, conforme discipl...</td>\n",
       "      <td>text_1</td>\n",
       "    </tr>\n",
       "    <tr>\n",
       "      <th>2</th>\n",
       "      <td>\\n-                                           ...</td>\n",
       "      <td>text_2</td>\n",
       "    </tr>\n",
       "    <tr>\n",
       "      <th>3</th>\n",
       "      <td>\\n-                                    JOSÉ EG...</td>\n",
       "      <td>text_3</td>\n",
       "    </tr>\n",
       "  </tbody>\n",
       "</table>\n",
       "</div>"
      ],
      "text/plain": [
       "                                                text      id\n",
       "0  -       CONSIDERANDO a norma do artigo 131 da ...  text_0\n",
       "1  \\n-\\n-\\n-\\n-         DESIGNA, conforme discipl...  text_1\n",
       "2  \\n-                                           ...  text_2\n",
       "3  \\n-                                    JOSÉ EG...  text_3"
      ]
     },
     "execution_count": 14,
     "metadata": {},
     "output_type": "execute_result"
    }
   ],
   "source": [
    "df = pd.DataFrame({'text':corpus})\n",
    "df[\"id\"] = [\"text_\" + str(i) for i in df.index]"
   ]
  },
  {
   "cell_type": "code",
   "execution_count": 15,
   "metadata": {},
   "outputs": [
    {
     "name": "stdin",
     "output_type": "stream",
     "text": [
      "continuar?(y/n) \n"
     ]
    }
   ],
   "source": [
    "classes = cp.classificar(df)"
   ]
  }
 ],
 "metadata": {
  "kernelspec": {
   "display_name": "Python 3",
   "language": "python",
   "name": "python3"
  },
  "language_info": {
   "codemirror_mode": {
    "name": "ipython",
    "version": 3
   },
   "file_extension": ".py",
   "mimetype": "text/x-python",
   "name": "python",
   "nbconvert_exporter": "python",
   "pygments_lexer": "ipython3",
   "version": "3.7.5"
  }
 },
 "nbformat": 4,
 "nbformat_minor": 4
}
