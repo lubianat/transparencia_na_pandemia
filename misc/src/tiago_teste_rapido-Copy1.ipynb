{
 "cells": [
  {
   "cell_type": "code",
   "execution_count": 22,
   "metadata": {},
   "outputs": [],
   "source": [
    "import comprei.utils as cp\n",
    "import pandas as pd\n"
   ]
  },
  {
   "cell_type": "code",
   "execution_count": 2,
   "metadata": {},
   "outputs": [],
   "source": [
    "dir = '../data/_teste rápido_//'\n",
    "keyword = \"teste rápido\"\n",
    "\n"
   ]
  },
  {
   "cell_type": "code",
   "execution_count": 3,
   "metadata": {},
   "outputs": [],
   "source": [
    "! grep -r -i -C 10 --group-separator=\"==========\" \"$keyword\" \"$dir\" > temp.txt\n",
    "! sed -i 's_.*txt__g' temp.txt"
   ]
  },
  {
   "cell_type": "code",
   "execution_count": 4,
   "metadata": {},
   "outputs": [
    {
     "name": "stdout",
     "output_type": "stream",
     "text": [
      "there are 78 matches\n",
      "\n",
      "\n"
     ]
    },
    {
     "data": {
      "image/png": "[encoded data removed]",
      "text/plain": [
       "<Figure size 432x288 with 1 Axes>"
      ]
     },
     "metadata": {
      "needs_background": "light"
     },
     "output_type": "display_data"
    }
   ],
   "source": [
    "with open(\"temp.txt\", \"r\") as selected_contexts_file:\n",
    "  file_content = selected_contexts_file.read()\n",
    "  file_content_splitted = file_content.split(\"==========\")\n",
    "\n",
    "cp.plot_corpus(file_content_splitted)\n"
   ]
  },
  {
   "cell_type": "code",
   "execution_count": 5,
   "metadata": {},
   "outputs": [
    {
     "data": {
      "text/html": [
       "<div>\n",
       "<style scoped>\n",
       "    .dataframe tbody tr th:only-of-type {\n",
       "        vertical-align: middle;\n",
       "    }\n",
       "\n",
       "    .dataframe tbody tr th {\n",
       "        vertical-align: top;\n",
       "    }\n",
       "\n",
       "    .dataframe thead th {\n",
       "        text-align: right;\n",
       "    }\n",
       "</style>\n",
       "<table border=\"1\" class=\"dataframe\">\n",
       "  <thead>\n",
       "    <tr style=\"text-align: right;\">\n",
       "      <th></th>\n",
       "      <th>text</th>\n",
       "      <th>id</th>\n",
       "    </tr>\n",
       "  </thead>\n",
       "  <tbody>\n",
       "    <tr>\n",
       "      <th>0</th>\n",
       "      <td>-aproximadamente 32 mil testes      para a esc...</td>\n",
       "      <td>text_1</td>\n",
       "    </tr>\n",
       "    <tr>\n",
       "      <th>1</th>\n",
       "      <td>\\n-TORNA PÚBLICO AOS INTERESSADOS QUE ESTÁ ABE...</td>\n",
       "      <td>text_2</td>\n",
       "    </tr>\n",
       "    <tr>\n",
       "      <th>2</th>\n",
       "      <td>\\n-                                           ...</td>\n",
       "      <td>text_3</td>\n",
       "    </tr>\n",
       "    <tr>\n",
       "      <th>3</th>\n",
       "      <td>\\n-necessidades do setor de obras e manutenção...</td>\n",
       "      <td>text_4</td>\n",
       "    </tr>\n",
       "    <tr>\n",
       "      <th>4</th>\n",
       "      <td>\\n-\\n-\\n-\\n-CONTRATO 079/2020\\n-              ...</td>\n",
       "      <td>text_5</td>\n",
       "    </tr>\n",
       "    <tr>\n",
       "      <th>...</th>\n",
       "      <td>...</td>\n",
       "      <td>...</td>\n",
       "    </tr>\n",
       "    <tr>\n",
       "      <th>73</th>\n",
       "      <td>\\n-                                           ...</td>\n",
       "      <td>text_74</td>\n",
       "    </tr>\n",
       "    <tr>\n",
       "      <th>74</th>\n",
       "      <td>\\n-http://dlc.pmf.sc.gov.br. O Pregoeiro.     ...</td>\n",
       "      <td>text_75</td>\n",
       "    </tr>\n",
       "    <tr>\n",
       "      <th>75</th>\n",
       "      <td>\\n-LOCATÁRIA: Secretaria Municipal de Saúde/Fu...</td>\n",
       "      <td>text_76</td>\n",
       "    </tr>\n",
       "    <tr>\n",
       "      <th>76</th>\n",
       "      <td>\\n-Art. 1º Fica nomeada a Servidora SAMANTA MA...</td>\n",
       "      <td>text_77</td>\n",
       "    </tr>\n",
       "    <tr>\n",
       "      <th>77</th>\n",
       "      <td>\\n-AVISO\\n-                                   ...</td>\n",
       "      <td>text_78</td>\n",
       "    </tr>\n",
       "  </tbody>\n",
       "</table>\n",
       "<p>78 rows × 2 columns</p>\n",
       "</div>"
      ],
      "text/plain": [
       "                                                 text       id\n",
       "0   -aproximadamente 32 mil testes      para a esc...   text_1\n",
       "1   \\n-TORNA PÚBLICO AOS INTERESSADOS QUE ESTÁ ABE...   text_2\n",
       "2   \\n-                                           ...   text_3\n",
       "3   \\n-necessidades do setor de obras e manutenção...   text_4\n",
       "4   \\n-\\n-\\n-\\n-CONTRATO 079/2020\\n-              ...   text_5\n",
       "..                                                ...      ...\n",
       "73  \\n-                                           ...  text_74\n",
       "74  \\n-http://dlc.pmf.sc.gov.br. O Pregoeiro.     ...  text_75\n",
       "75  \\n-LOCATÁRIA: Secretaria Municipal de Saúde/Fu...  text_76\n",
       "76  \\n-Art. 1º Fica nomeada a Servidora SAMANTA MA...  text_77\n",
       "77  \\n-AVISO\\n-                                   ...  text_78\n",
       "\n",
       "[78 rows x 2 columns]"
      ]
     },
     "execution_count": 5,
     "metadata": {},
     "output_type": "execute_result"
    }
   ],
   "source": [
    "df = pd.DataFrame({'text':file_content_splitted})\n",
    "df[\"id\"] = df.index + 1\n",
    "df[\"id\"] = [\"text_\" + str(i) for i in df[\"id\"]]\n",
    "df"
   ]
  },
  {
   "cell_type": "code",
   "execution_count": 6,
   "metadata": {},
   "outputs": [],
   "source": [
    "def classificar(df):\n",
    "    \"\"\"\n",
    "    \n",
    "    \n",
    "    Args\n",
    "        A dataframe with columns for text and id\n",
    "        \n",
    "    Returns\n",
    "        dict: A dictionary with the user defined classes.\n",
    "        \n",
    "    \n",
    "    \n",
    "    \"\"\"\n",
    "    classes = {}\n",
    "    for i, row in df.iterrows():\n",
    "        classes[row[\"id\"]] = \"unlabeled\"\n",
    "        \n",
    "\n",
    "    for i, row in df.iterrows():\n",
    "        print(row[\"text\"])\n",
    "        print_tipos()\n",
    "        class_of_snippet = input(\"Qual é o tipo que mais se aproxima desse snippet?\")\n",
    "\n",
    "        classes[row[\"id\"]] = class_of_snippet\n",
    "        clear_output()\n",
    "\n",
    "        if input('continuar?(y/n)') == 'n':\n",
    "            break\n",
    "                \n",
    "    \n",
    "    return(classes)\n",
    "    print(classes)"
   ]
  },
  {
   "cell_type": "code",
   "execution_count": 8,
   "metadata": {},
   "outputs": [
    {
     "name": "stdin",
     "output_type": "stream",
     "text": [
      "continuar?(y/n) n\n"
     ]
    }
   ],
   "source": [
    "classes = cp.classificar(df)"
   ]
  },
  {
   "cell_type": "code",
   "execution_count": 9,
   "metadata": {},
   "outputs": [
    {
     "data": {
      "text/plain": [
       "{'text_1': '6',\n",
       " 'text_2': '3',\n",
       " 'text_3': '1',\n",
       " 'text_4': '4',\n",
       " 'text_5': '1',\n",
       " 'text_6': '1',\n",
       " 'text_7': '6',\n",
       " 'text_8': '6',\n",
       " 'text_9': '1',\n",
       " 'text_10': '1',\n",
       " 'text_11': '1',\n",
       " 'text_12': '1',\n",
       " 'text_13': '6',\n",
       " 'text_14': '6',\n",
       " 'text_15': '6',\n",
       " 'text_16': '1',\n",
       " 'text_17': '1',\n",
       " 'text_18': '1',\n",
       " 'text_19': '1',\n",
       " 'text_20': '1',\n",
       " 'text_21': '6',\n",
       " 'text_22': '6',\n",
       " 'text_23': '3',\n",
       " 'text_24': '6',\n",
       " 'text_25': '1',\n",
       " 'text_26': '6',\n",
       " 'text_27': '1',\n",
       " 'text_28': '6',\n",
       " 'text_29': '3',\n",
       " 'text_30': '3',\n",
       " 'text_31': '4',\n",
       " 'text_32': '6',\n",
       " 'text_33': '1',\n",
       " 'text_34': 'unlabeled',\n",
       " 'text_35': 'unlabeled',\n",
       " 'text_36': 'unlabeled',\n",
       " 'text_37': 'unlabeled',\n",
       " 'text_38': 'unlabeled',\n",
       " 'text_39': 'unlabeled',\n",
       " 'text_40': 'unlabeled',\n",
       " 'text_41': 'unlabeled',\n",
       " 'text_42': 'unlabeled',\n",
       " 'text_43': 'unlabeled',\n",
       " 'text_44': 'unlabeled',\n",
       " 'text_45': 'unlabeled',\n",
       " 'text_46': 'unlabeled',\n",
       " 'text_47': 'unlabeled',\n",
       " 'text_48': 'unlabeled',\n",
       " 'text_49': 'unlabeled',\n",
       " 'text_50': 'unlabeled',\n",
       " 'text_51': 'unlabeled',\n",
       " 'text_52': 'unlabeled',\n",
       " 'text_53': 'unlabeled',\n",
       " 'text_54': 'unlabeled',\n",
       " 'text_55': 'unlabeled',\n",
       " 'text_56': 'unlabeled',\n",
       " 'text_57': 'unlabeled',\n",
       " 'text_58': 'unlabeled',\n",
       " 'text_59': 'unlabeled',\n",
       " 'text_60': 'unlabeled',\n",
       " 'text_61': 'unlabeled',\n",
       " 'text_62': 'unlabeled',\n",
       " 'text_63': 'unlabeled',\n",
       " 'text_64': 'unlabeled',\n",
       " 'text_65': 'unlabeled',\n",
       " 'text_66': 'unlabeled',\n",
       " 'text_67': 'unlabeled',\n",
       " 'text_68': 'unlabeled',\n",
       " 'text_69': 'unlabeled',\n",
       " 'text_70': 'unlabeled',\n",
       " 'text_71': 'unlabeled',\n",
       " 'text_72': 'unlabeled',\n",
       " 'text_73': 'unlabeled',\n",
       " 'text_74': 'unlabeled',\n",
       " 'text_75': 'unlabeled',\n",
       " 'text_76': 'unlabeled',\n",
       " 'text_77': 'unlabeled',\n",
       " 'text_78': 'unlabeled'}"
      ]
     },
     "execution_count": 9,
     "metadata": {},
     "output_type": "execute_result"
    }
   ],
   "source": [
    "classes"
   ]
  },
  {
   "cell_type": "code",
   "execution_count": 18,
   "metadata": {},
   "outputs": [],
   "source": [
    "df[\"label\"] = df[\"id\"].map(classes)"
   ]
  },
  {
   "cell_type": "code",
   "execution_count": 26,
   "metadata": {},
   "outputs": [
    {
     "data": {
      "text/html": [
       "<div>\n",
       "<style scoped>\n",
       "    .dataframe tbody tr th:only-of-type {\n",
       "        vertical-align: middle;\n",
       "    }\n",
       "\n",
       "    .dataframe tbody tr th {\n",
       "        vertical-align: top;\n",
       "    }\n",
       "\n",
       "    .dataframe thead th {\n",
       "        text-align: right;\n",
       "    }\n",
       "</style>\n",
       "<table border=\"1\" class=\"dataframe\">\n",
       "  <thead>\n",
       "    <tr style=\"text-align: right;\">\n",
       "      <th></th>\n",
       "      <th>text</th>\n",
       "      <th>id</th>\n",
       "      <th>label</th>\n",
       "      <th>d1</th>\n",
       "      <th>d2</th>\n",
       "    </tr>\n",
       "  </thead>\n",
       "  <tbody>\n",
       "    <tr>\n",
       "      <th>0</th>\n",
       "      <td>-aproximadamente 32 mil testes      para a esc...</td>\n",
       "      <td>text_1</td>\n",
       "      <td>6</td>\n",
       "      <td>0.099164</td>\n",
       "      <td>0.082702</td>\n",
       "    </tr>\n",
       "    <tr>\n",
       "      <th>1</th>\n",
       "      <td>\\n-TORNA PÚBLICO AOS INTERESSADOS QUE ESTÁ ABE...</td>\n",
       "      <td>text_2</td>\n",
       "      <td>3</td>\n",
       "      <td>0.305127</td>\n",
       "      <td>0.129480</td>\n",
       "    </tr>\n",
       "    <tr>\n",
       "      <th>2</th>\n",
       "      <td>\\n-                                           ...</td>\n",
       "      <td>text_3</td>\n",
       "      <td>1</td>\n",
       "      <td>0.456058</td>\n",
       "      <td>0.198003</td>\n",
       "    </tr>\n",
       "    <tr>\n",
       "      <th>3</th>\n",
       "      <td>\\n-necessidades do setor de obras e manutenção...</td>\n",
       "      <td>text_4</td>\n",
       "      <td>4</td>\n",
       "      <td>0.360083</td>\n",
       "      <td>0.049158</td>\n",
       "    </tr>\n",
       "    <tr>\n",
       "      <th>4</th>\n",
       "      <td>\\n-\\n-\\n-\\n-CONTRATO 079/2020\\n-              ...</td>\n",
       "      <td>text_5</td>\n",
       "      <td>1</td>\n",
       "      <td>0.376052</td>\n",
       "      <td>-0.038755</td>\n",
       "    </tr>\n",
       "    <tr>\n",
       "      <th>...</th>\n",
       "      <td>...</td>\n",
       "      <td>...</td>\n",
       "      <td>...</td>\n",
       "      <td>...</td>\n",
       "      <td>...</td>\n",
       "    </tr>\n",
       "    <tr>\n",
       "      <th>73</th>\n",
       "      <td>\\n-                                           ...</td>\n",
       "      <td>text_74</td>\n",
       "      <td>unlabeled</td>\n",
       "      <td>0.216700</td>\n",
       "      <td>0.065488</td>\n",
       "    </tr>\n",
       "    <tr>\n",
       "      <th>74</th>\n",
       "      <td>\\n-http://dlc.pmf.sc.gov.br. O Pregoeiro.     ...</td>\n",
       "      <td>text_75</td>\n",
       "      <td>unlabeled</td>\n",
       "      <td>0.346169</td>\n",
       "      <td>-0.032617</td>\n",
       "    </tr>\n",
       "    <tr>\n",
       "      <th>75</th>\n",
       "      <td>\\n-LOCATÁRIA: Secretaria Municipal de Saúde/Fu...</td>\n",
       "      <td>text_76</td>\n",
       "      <td>unlabeled</td>\n",
       "      <td>0.307223</td>\n",
       "      <td>-0.021367</td>\n",
       "    </tr>\n",
       "    <tr>\n",
       "      <th>76</th>\n",
       "      <td>\\n-Art. 1º Fica nomeada a Servidora SAMANTA MA...</td>\n",
       "      <td>text_77</td>\n",
       "      <td>unlabeled</td>\n",
       "      <td>0.230002</td>\n",
       "      <td>0.006717</td>\n",
       "    </tr>\n",
       "    <tr>\n",
       "      <th>77</th>\n",
       "      <td>\\n-AVISO\\n-                                   ...</td>\n",
       "      <td>text_78</td>\n",
       "      <td>unlabeled</td>\n",
       "      <td>0.215311</td>\n",
       "      <td>0.567421</td>\n",
       "    </tr>\n",
       "  </tbody>\n",
       "</table>\n",
       "<p>78 rows × 5 columns</p>\n",
       "</div>"
      ],
      "text/plain": [
       "                                                 text       id      label  \\\n",
       "0   -aproximadamente 32 mil testes      para a esc...   text_1          6   \n",
       "1   \\n-TORNA PÚBLICO AOS INTERESSADOS QUE ESTÁ ABE...   text_2          3   \n",
       "2   \\n-                                           ...   text_3          1   \n",
       "3   \\n-necessidades do setor de obras e manutenção...   text_4          4   \n",
       "4   \\n-\\n-\\n-\\n-CONTRATO 079/2020\\n-              ...   text_5          1   \n",
       "..                                                ...      ...        ...   \n",
       "73  \\n-                                           ...  text_74  unlabeled   \n",
       "74  \\n-http://dlc.pmf.sc.gov.br. O Pregoeiro.     ...  text_75  unlabeled   \n",
       "75  \\n-LOCATÁRIA: Secretaria Municipal de Saúde/Fu...  text_76  unlabeled   \n",
       "76  \\n-Art. 1º Fica nomeada a Servidora SAMANTA MA...  text_77  unlabeled   \n",
       "77  \\n-AVISO\\n-                                   ...  text_78  unlabeled   \n",
       "\n",
       "          d1        d2  \n",
       "0   0.099164  0.082702  \n",
       "1   0.305127  0.129480  \n",
       "2   0.456058  0.198003  \n",
       "3   0.360083  0.049158  \n",
       "4   0.376052 -0.038755  \n",
       "..       ...       ...  \n",
       "73  0.216700  0.065488  \n",
       "74  0.346169 -0.032617  \n",
       "75  0.307223 -0.021367  \n",
       "76  0.230002  0.006717  \n",
       "77  0.215311  0.567421  \n",
       "\n",
       "[78 rows x 5 columns]"
      ]
     },
     "execution_count": 26,
     "metadata": {},
     "output_type": "execute_result"
    }
   ],
   "source": [
    "data2D = cp.get_2d_representation(file_content_splitted)\n",
    "\n",
    "df[\"d1\"] = data2D[:,0]\n",
    "df[\"d2\"] = data2D[:,1]\n",
    "df"
   ]
  },
  {
   "cell_type": "code",
   "execution_count": 27,
   "metadata": {},
   "outputs": [
    {
     "ename": "NameError",
     "evalue": "name 'filename' is not defined",
     "output_type": "error",
     "traceback": [
      "\u001b[0;31m-----------------------------------------------------\u001b[0m",
      "\u001b[0;31mNameError\u001b[0m           Traceback (most recent call last)",
      "\u001b[0;32m<ipython-input-27-ca36c68152a8>\u001b[0m in \u001b[0;36m<module>\u001b[0;34m\u001b[0m\n\u001b[1;32m      5\u001b[0m \u001b[0;34m\u001b[0m\u001b[0m\n\u001b[1;32m      6\u001b[0m \u001b[0mplot\u001b[0m \u001b[0;34m=\u001b[0m \u001b[0mg\u001b[0m\u001b[0;34m.\u001b[0m\u001b[0mget_figure\u001b[0m\u001b[0;34m(\u001b[0m\u001b[0;34m)\u001b[0m\u001b[0;34m\u001b[0m\u001b[0;34m\u001b[0m\u001b[0m\n\u001b[0;32m----> 7\u001b[0;31m \u001b[0mplot\u001b[0m\u001b[0;34m.\u001b[0m\u001b[0msavefig\u001b[0m\u001b[0;34m(\u001b[0m\u001b[0mfilename\u001b[0m\u001b[0;34m)\u001b[0m\u001b[0;34m\u001b[0m\u001b[0;34m\u001b[0m\u001b[0m\n\u001b[0m",
      "\u001b[0;31mNameError\u001b[0m: name 'filename' is not defined"
     ]
    },
    {
     "data": {
      "image/png": "[encoded data removed]",
      "text/plain": [
       "<Figure size 432x288 with 1 Axes>"
      ]
     },
     "metadata": {
      "needs_background": "light"
     },
     "output_type": "display_data"
    }
   ],
   "source": [
    "import seaborn as sns\n",
    "g = sns.scatterplot(x=\"d1\", y=\"d2\",\n",
    "          hue=\"label\",\n",
    "          data=df);\n",
    "\n",
    "plot = g.get_figure()\n",
    "plot.savefig(\"testes_raw_2020_10_01.png\")"
   ]
  },
  {
   "cell_type": "code",
   "execution_count": 61,
   "metadata": {},
   "outputs": [
    {
     "name": "stderr",
     "output_type": "stream",
     "text": [
      "/home/lubianat/.local/lib/python3.7/site-packages/ipykernel_launcher.py:12: SettingWithCopyWarning: \n",
      "A value is trying to be set on a copy of a slice from a DataFrame\n",
      "\n",
      "See the caveats in the documentation: https://pandas.pydata.org/pandas-docs/stable/user_guide/indexing.html#returning-a-view-versus-a-copy\n",
      "  if sys.path[0] == '':\n"
     ]
    },
    {
     "data": {
      "text/plain": [
       "LabelSpreading(alpha=0.8, kernel='knn')"
      ]
     },
     "execution_count": 61,
     "metadata": {},
     "output_type": "execute_result"
    }
   ],
   "source": [
    "import numpy as np\n",
    "from sklearn.feature_extraction.text import TfidfVectorizer\n",
    "from sklearn.feature_extraction.text import CountVectorizer, TfidfTransformer\n",
    "from sklearn.semi_supervised import LabelSpreading\n",
    "import nltk\n",
    "\n",
    "vectorizer = TfidfVectorizer(stop_words=nltk.corpus.stopwords.words('portuguese'))\n",
    "X = vectorizer.fit_transform(file_content_splitted)\n",
    "\n",
    "\n",
    "foo = df[\"label\"]\n",
    "foo[foo == \"unlabeled\"] = -1\n",
    "\n",
    "\n",
    "label_spread = LabelSpreading(kernel='knn', alpha=0.8)\n",
    "label_spread.fit(X.toarray(), foo.astype(int))"
   ]
  },
  {
   "cell_type": "code",
   "execution_count": 65,
   "metadata": {},
   "outputs": [],
   "source": [
    "output_labels = label_spread.transduction_\n",
    "output_labels\n",
    "\n",
    "df[\"inferred_labels\"] = output_labels"
   ]
  },
  {
   "cell_type": "code",
   "execution_count": 66,
   "metadata": {},
   "outputs": [
    {
     "data": {
      "image/png": "[encoded data removed]",
      "text/plain": [
       "<Figure size 432x288 with 1 Axes>"
      ]
     },
     "metadata": {
      "needs_background": "light"
     },
     "output_type": "display_data"
    }
   ],
   "source": [
    "\n",
    "df[\"inferred_labels\"]\n",
    "g = sns.scatterplot(x=\"d1\", y=\"d2\",\n",
    "          hue=output_labels.astype(str),\n",
    "          data=df);\n",
    "\n",
    "plot = g.get_figure()\n"
   ]
  },
  {
   "cell_type": "code",
   "execution_count": 64,
   "metadata": {},
   "outputs": [],
   "source": [
    "plot.savefig(\"testes_raw_progagado_2020_10_01.png\")"
   ]
  },
  {
   "cell_type": "code",
   "execution_count": 86,
   "metadata": {},
   "outputs": [],
   "source": [
    "df_enriched_for_buyings = df[df[\"label\"] == -1]\n",
    "\n",
    "df_enriched_for_buyings = df_enriched_for_buyings[df_enriched_for_buyings[\"inferred_labels\"] == 1]"
   ]
  },
  {
   "cell_type": "code",
   "execution_count": 87,
   "metadata": {},
   "outputs": [
    {
     "name": "stdin",
     "output_type": "stream",
     "text": [
      "continuar?(y/n) \n"
     ]
    }
   ],
   "source": [
    "classes_enriched = cp.classificar(df_enriched_for_buyings)"
   ]
  },
  {
   "cell_type": "code",
   "execution_count": 99,
   "metadata": {},
   "outputs": [
    {
     "data": {
      "text/plain": [
       "{'text_34': '1',\n",
       " 'text_35': '3',\n",
       " 'text_38': '1',\n",
       " 'text_40': '1',\n",
       " 'text_43': '1',\n",
       " 'text_44': '6',\n",
       " 'text_45': '1',\n",
       " 'text_49': '6',\n",
       " 'text_50': '1',\n",
       " 'text_51': '1',\n",
       " 'text_53': '6',\n",
       " 'text_54': '1',\n",
       " 'text_55': '1',\n",
       " 'text_56': '4',\n",
       " 'text_57': '6',\n",
       " 'text_58': '1',\n",
       " 'text_59': '1',\n",
       " 'text_61': '1',\n",
       " 'text_65': '3',\n",
       " 'text_66': '3',\n",
       " 'text_68': '1',\n",
       " 'text_70': '1'}"
      ]
     },
     "execution_count": 99,
     "metadata": {},
     "output_type": "execute_result"
    }
   ],
   "source": [
    "classes_enriched"
   ]
  },
  {
   "cell_type": "code",
   "execution_count": 111,
   "metadata": {},
   "outputs": [],
   "source": [
    "res = 0\n",
    "for key in classes_enriched: \n",
    "    if classes_enriched[key] == \"1\": \n",
    "        res = res + 1\n",
    "        \n",
    "prop_after_enrichment = res/len(classes_enriched)"
   ]
  },
  {
   "cell_type": "code",
   "execution_count": 112,
   "metadata": {},
   "outputs": [],
   "source": [
    "res = 0\n",
    "for key in classes: \n",
    "    if classes[key] == \"1\": \n",
    "        res = res + 1\n",
    "\n",
    "        \n",
    "tot = 0\n",
    "for key in classes: \n",
    "    if classes[key] != \"unlabeled\": \n",
    "        tot = tot + 1\n",
    "\n",
    "prop_before_enrichment = res/tot"
   ]
  },
  {
   "cell_type": "code",
   "execution_count": 113,
   "metadata": {},
   "outputs": [
    {
     "data": {
      "text/plain": [
       "0.6363636363636364"
      ]
     },
     "execution_count": 113,
     "metadata": {},
     "output_type": "execute_result"
    }
   ],
   "source": [
    "prop_after_enrichment"
   ]
  },
  {
   "cell_type": "code",
   "execution_count": 114,
   "metadata": {},
   "outputs": [
    {
     "data": {
      "text/plain": [
       "0.45454545454545453"
      ]
     },
     "execution_count": 114,
     "metadata": {},
     "output_type": "execute_result"
    }
   ],
   "source": [
    "prop_before_enrichment"
   ]
  },
  {
   "cell_type": "code",
   "execution_count": 115,
   "metadata": {},
   "outputs": [],
   "source": [
    "df[\"labels_after_prop\"] = df[\"id\"].map(classes_enriched)"
   ]
  },
  {
   "cell_type": "code",
   "execution_count": 116,
   "metadata": {},
   "outputs": [
    {
     "data": {
      "text/html": [
       "<div>\n",
       "<style scoped>\n",
       "    .dataframe tbody tr th:only-of-type {\n",
       "        vertical-align: middle;\n",
       "    }\n",
       "\n",
       "    .dataframe tbody tr th {\n",
       "        vertical-align: top;\n",
       "    }\n",
       "\n",
       "    .dataframe thead th {\n",
       "        text-align: right;\n",
       "    }\n",
       "</style>\n",
       "<table border=\"1\" class=\"dataframe\">\n",
       "  <thead>\n",
       "    <tr style=\"text-align: right;\">\n",
       "      <th></th>\n",
       "      <th>text</th>\n",
       "      <th>id</th>\n",
       "      <th>label</th>\n",
       "      <th>d1</th>\n",
       "      <th>d2</th>\n",
       "      <th>inferred_labels</th>\n",
       "      <th>labels_after_prop</th>\n",
       "    </tr>\n",
       "  </thead>\n",
       "  <tbody>\n",
       "    <tr>\n",
       "      <th>0</th>\n",
       "      <td>-aproximadamente 32 mil testes      para a esc...</td>\n",
       "      <td>text_1</td>\n",
       "      <td>6</td>\n",
       "      <td>0.099164</td>\n",
       "      <td>0.082702</td>\n",
       "      <td>6</td>\n",
       "      <td>NaN</td>\n",
       "    </tr>\n",
       "    <tr>\n",
       "      <th>1</th>\n",
       "      <td>\\n-TORNA PÚBLICO AOS INTERESSADOS QUE ESTÁ ABE...</td>\n",
       "      <td>text_2</td>\n",
       "      <td>3</td>\n",
       "      <td>0.305127</td>\n",
       "      <td>0.129480</td>\n",
       "      <td>3</td>\n",
       "      <td>NaN</td>\n",
       "    </tr>\n",
       "    <tr>\n",
       "      <th>2</th>\n",
       "      <td>\\n-                                           ...</td>\n",
       "      <td>text_3</td>\n",
       "      <td>1</td>\n",
       "      <td>0.456058</td>\n",
       "      <td>0.198003</td>\n",
       "      <td>1</td>\n",
       "      <td>NaN</td>\n",
       "    </tr>\n",
       "    <tr>\n",
       "      <th>3</th>\n",
       "      <td>\\n-necessidades do setor de obras e manutenção...</td>\n",
       "      <td>text_4</td>\n",
       "      <td>4</td>\n",
       "      <td>0.360083</td>\n",
       "      <td>0.049158</td>\n",
       "      <td>4</td>\n",
       "      <td>NaN</td>\n",
       "    </tr>\n",
       "    <tr>\n",
       "      <th>4</th>\n",
       "      <td>\\n-\\n-\\n-\\n-CONTRATO 079/2020\\n-              ...</td>\n",
       "      <td>text_5</td>\n",
       "      <td>1</td>\n",
       "      <td>0.376052</td>\n",
       "      <td>-0.038755</td>\n",
       "      <td>1</td>\n",
       "      <td>NaN</td>\n",
       "    </tr>\n",
       "    <tr>\n",
       "      <th>...</th>\n",
       "      <td>...</td>\n",
       "      <td>...</td>\n",
       "      <td>...</td>\n",
       "      <td>...</td>\n",
       "      <td>...</td>\n",
       "      <td>...</td>\n",
       "      <td>...</td>\n",
       "    </tr>\n",
       "    <tr>\n",
       "      <th>73</th>\n",
       "      <td>\\n-                                           ...</td>\n",
       "      <td>text_74</td>\n",
       "      <td>-1</td>\n",
       "      <td>0.216700</td>\n",
       "      <td>0.065488</td>\n",
       "      <td>3</td>\n",
       "      <td>NaN</td>\n",
       "    </tr>\n",
       "    <tr>\n",
       "      <th>74</th>\n",
       "      <td>\\n-http://dlc.pmf.sc.gov.br. O Pregoeiro.     ...</td>\n",
       "      <td>text_75</td>\n",
       "      <td>-1</td>\n",
       "      <td>0.346169</td>\n",
       "      <td>-0.032617</td>\n",
       "      <td>6</td>\n",
       "      <td>NaN</td>\n",
       "    </tr>\n",
       "    <tr>\n",
       "      <th>75</th>\n",
       "      <td>\\n-LOCATÁRIA: Secretaria Municipal de Saúde/Fu...</td>\n",
       "      <td>text_76</td>\n",
       "      <td>-1</td>\n",
       "      <td>0.307223</td>\n",
       "      <td>-0.021367</td>\n",
       "      <td>6</td>\n",
       "      <td>NaN</td>\n",
       "    </tr>\n",
       "    <tr>\n",
       "      <th>76</th>\n",
       "      <td>\\n-Art. 1º Fica nomeada a Servidora SAMANTA MA...</td>\n",
       "      <td>text_77</td>\n",
       "      <td>-1</td>\n",
       "      <td>0.230002</td>\n",
       "      <td>0.006717</td>\n",
       "      <td>6</td>\n",
       "      <td>NaN</td>\n",
       "    </tr>\n",
       "    <tr>\n",
       "      <th>77</th>\n",
       "      <td>\\n-AVISO\\n-                                   ...</td>\n",
       "      <td>text_78</td>\n",
       "      <td>-1</td>\n",
       "      <td>0.215311</td>\n",
       "      <td>0.567421</td>\n",
       "      <td>6</td>\n",
       "      <td>NaN</td>\n",
       "    </tr>\n",
       "  </tbody>\n",
       "</table>\n",
       "<p>78 rows × 7 columns</p>\n",
       "</div>"
      ],
      "text/plain": [
       "                                                 text       id label  \\\n",
       "0   -aproximadamente 32 mil testes      para a esc...   text_1     6   \n",
       "1   \\n-TORNA PÚBLICO AOS INTERESSADOS QUE ESTÁ ABE...   text_2     3   \n",
       "2   \\n-                                           ...   text_3     1   \n",
       "3   \\n-necessidades do setor de obras e manutenção...   text_4     4   \n",
       "4   \\n-\\n-\\n-\\n-CONTRATO 079/2020\\n-              ...   text_5     1   \n",
       "..                                                ...      ...   ...   \n",
       "73  \\n-                                           ...  text_74    -1   \n",
       "74  \\n-http://dlc.pmf.sc.gov.br. O Pregoeiro.     ...  text_75    -1   \n",
       "75  \\n-LOCATÁRIA: Secretaria Municipal de Saúde/Fu...  text_76    -1   \n",
       "76  \\n-Art. 1º Fica nomeada a Servidora SAMANTA MA...  text_77    -1   \n",
       "77  \\n-AVISO\\n-                                   ...  text_78    -1   \n",
       "\n",
       "          d1        d2  inferred_labels labels_after_prop  \n",
       "0   0.099164  0.082702                6               NaN  \n",
       "1   0.305127  0.129480                3               NaN  \n",
       "2   0.456058  0.198003                1               NaN  \n",
       "3   0.360083  0.049158                4               NaN  \n",
       "4   0.376052 -0.038755                1               NaN  \n",
       "..       ...       ...              ...               ...  \n",
       "73  0.216700  0.065488                3               NaN  \n",
       "74  0.346169 -0.032617                6               NaN  \n",
       "75  0.307223 -0.021367                6               NaN  \n",
       "76  0.230002  0.006717                6               NaN  \n",
       "77  0.215311  0.567421                6               NaN  \n",
       "\n",
       "[78 rows x 7 columns]"
      ]
     },
     "execution_count": 116,
     "metadata": {},
     "output_type": "execute_result"
    }
   ],
   "source": [
    "df"
   ]
  },
  {
   "cell_type": "code",
   "execution_count": 121,
   "metadata": {},
   "outputs": [],
   "source": [
    "df.to_csv(\"testes_anotado_2020_10_01.csv\")"
   ]
  },
  {
   "cell_type": "code",
   "execution_count": null,
   "metadata": {},
   "outputs": [],
   "source": []
  }
 ],
 "metadata": {
  "kernelspec": {
   "display_name": "Python 3",
   "language": "python",
   "name": "python3"
  },
  "language_info": {
   "codemirror_mode": {
    "name": "ipython",
    "version": 3
   },
   "file_extension": ".py",
   "mimetype": "text/x-python",
   "name": "python",
   "nbconvert_exporter": "python",
   "pygments_lexer": "ipython3",
   "version": "3.7.5"
  }
 },
 "nbformat": 4,
 "nbformat_minor": 4
}
