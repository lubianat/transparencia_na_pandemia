{
 "cells": [
  {
   "cell_type": "code",
   "execution_count": 1,
   "metadata": {},
   "outputs": [],
   "source": [
    "import pandas as pd\n",
    "import numpy as np\n",
    "import pprint \n",
    "import os\n",
    "\n",
    "dir = '../data/_ventilador pulmonar_//'"
   ]
  },
  {
   "cell_type": "code",
   "execution_count": 2,
   "metadata": {},
   "outputs": [],
   "source": [
    "basedir = \"/content/drive/Shared drives/Transparência na Pandemia/\" \n",
    "\n",
    "keyword = \"ventilador pulmonar\"\n",
    "target_filepath = basedir +  keyword\n",
    "\n",
    "! grep -r -i -C 10 --group-separator=\"==========\" \"$keyword\" \"$dir\" > temp.txt"
   ]
  },
  {
   "cell_type": "code",
   "execution_count": 3,
   "metadata": {},
   "outputs": [],
   "source": [
    "! sed -i 's_.*txt__g' temp.txt"
   ]
  },
  {
   "cell_type": "code",
   "execution_count": 4,
   "metadata": {},
   "outputs": [],
   "source": [
    "with open(\"temp.txt\", \"r\") as selected_contexts_file:\n",
    "  file_content = selected_contexts_file.read()\n",
    "  file_content_splitted = file_content.split(\"==========\")\n"
   ]
  },
  {
   "cell_type": "code",
   "execution_count": 5,
   "metadata": {},
   "outputs": [],
   "source": [
    "import nltk\n",
    "from sklearn.feature_extraction.text import TfidfVectorizer\n",
    "\n",
    "# Manual labelling if it is a transaction or not \n",
    "vectorizer = TfidfVectorizer(stop_words=nltk.corpus.stopwords.words('portuguese'))\n",
    "X = vectorizer.fit_transform(file_content_splitted)\n"
   ]
  },
  {
   "cell_type": "code",
   "execution_count": 7,
   "metadata": {},
   "outputs": [
    {
     "data": {
      "image/png": "[encoded data removed]",
      "text/plain": [
       "<Figure size 432x288 with 1 Axes>"
      ]
     },
     "metadata": {
      "needs_background": "light"
     },
     "output_type": "display_data"
    }
   ],
   "source": [
    "from sklearn.feature_extraction.text import CountVectorizer, TfidfTransformer\n",
    "from sklearn.decomposition import TruncatedSVD\n",
    "import matplotlib.pyplot as plt\n",
    "\n",
    "SVD = TruncatedSVD(n_components=2).fit(X)\n",
    "data2D = SVD.transform(X)\n",
    "plt.scatter(data2D[:,0], data2D[:,1])\n",
    "plt.show()"
   ]
  },
  {
   "cell_type": "code",
   "execution_count": 8,
   "metadata": {},
   "outputs": [
    {
     "data": {
      "text/plain": [
       "19"
      ]
     },
     "execution_count": 8,
     "metadata": {},
     "output_type": "execute_result"
    }
   ],
   "source": [
    "len(file_content_splitted)"
   ]
  },
  {
   "cell_type": "code",
   "execution_count": null,
   "metadata": {},
   "outputs": [
    {
     "name": "stdout",
     "output_type": "stream",
     "text": [
      "\n",
      "-                                         Coordenadora\n",
      "-                                                                                                                        A Coordenadoria Administrativa torna público para conhecimento dos interessados a prorrogação\n",
      "-                                                                                                                        do prazo da COTAÇÃO DE PREÇO Nº 018/2020: contratação de profissional codificador(a) para\n",
      "-                                                                                                                        consultoria em codificação (CID-10) para a estratégia de redução dos Códigos Pouco Úteis como\n",
      "-                                 AVISO DE CONVOCAÇÃO                                                                    Causa Básica de Morte. As propostas deverão ser apresentadas em até 72 horas a partir da data\n",
      "-                                                                                                                        desta publicação.\n",
      "-                                                                                                                        O processo administrativo nº 13623/2019 referente ao objeto da presente cotação encontra-se no\n",
      "-A Coordenadoria Administrativa torna público para conhecimento dos interessados que será\n",
      "-                                                                                                                        Setor de Suprimentos - SESUP, telefone: (71) 3202-1146 e-mail: sesup.sms3@gmail.com, onde os\n",
      "-realizada COTAÇÃO DE PREÇO. Objeto: Registro de preços para aquisição de Equipamento Médico                             interessados poderão solicitar maiores informações.\n",
      ":Hospitalar (Ventilador pulmonar eletrônico multiprocessado adulto e pediátrico), a ser utilizado\n",
      "-na UPA III - Cidade Baixa.                                                                                                                                            Salvador, 19 de fevereiro de 2020\n",
      "-COTAÇÃO DE PREÇO Nº 034/2020 - PROC. Nº 2837/2020.\n",
      "-                                                                                                                                                                    STELA GLEIDE OLIVEIRA SANTANA\n",
      "-As propostas deverão ser apresentadas no prazo de 03 (três) dias úteis, a contar da publicação deste                                                                         Coordenadora\n",
      "-aviso.\n",
      "-Os processos administrativos referentes aos objetos das presentes cotações encontram-se no                                                             RETIFICAÇÃO DO AVISO DE CONVOCAÇÃO\n",
      "-Setor de Suprimentos - SESUP, telefone: (71) 3202-1147 e-mail: searp.saude@gmail.com, onde os                                                                  COTAÇÃO Nº 388/2019\n",
      "-interessados poderão solicitar maiores informações.\n",
      "-                                                                                                                        PUBLICAÇÃO: D.O.M. nº 7.512 de 27 de novembro de 2019, pág. 10.\n",
      "-                                Salvador, 19 de fevereiro de 2020.                                                      PROCESSO Nº 421/2019.\n",
      "\n",
      "\n",
      "         Tipos possíveis:\n",
      "         1 - compra (de ventilador ou acessório)\n",
      "         2 - reparo/manutenção (de ventilador ou acessório)\n",
      "         3 - aviso de convocação para licitação\n",
      "         4 - registro de preços\n",
      "         5 - licitação fracassada\n",
      "         6 - outro    \n",
      "        \n"
     ]
    }
   ],
   "source": [
    "from IPython.display import clear_output\n",
    "\n",
    "classes = []\n",
    "for i in file_content_splitted:\n",
    "        print(i)\n",
    "        print(\"\"\"\n",
    "         Tipos possíveis:\n",
    "         1 - compra (de ventilador ou acessório)\n",
    "         2 - reparo/manutenção (de ventilador ou acessório)\n",
    "         3 - aviso de convocação para licitação\n",
    "         4 - registro de preços\n",
    "         5 - licitação fracassada\n",
    "         6 - outro    \n",
    "        \"\"\")\n",
    "        class_of_snippet = input(\"Qual é o tipo que mais se aproxima desse snippet?\")\n",
    "        \n",
    "        classes.append(class_of_snippet)\n",
    "        clear_output()\n"
   ]
  },
  {
   "cell_type": "code",
   "execution_count": 113,
   "metadata": {},
   "outputs": [],
   "source": [
    "classes = ['compra', 'convocação', 'reparo'\n",
    "           , 'registro', 'reparo', 'reparo', 'convocação', 'registro', 'convocação', 'convocação', 'reparo', 'convocação', 'convocação', 'registro', 'convocação', 'licitação fracassada', 'reparo', 'registro', 'compra']\n",
    "\n",
    "import pandas as pd\n",
    "\n",
    "df = pd.DataFrame({\"classes\":classes,\n",
    "                   \"text\":file_content_splitted,\n",
    "                   \"d1\": data2D[:,0],\n",
    "                   \"d2\": data2D[:,1]})"
   ]
  },
  {
   "cell_type": "code",
   "execution_count": 115,
   "metadata": {},
   "outputs": [
    {
     "data": {
      "text/html": [
       "<div>\n",
       "<style scoped>\n",
       "    .dataframe tbody tr th:only-of-type {\n",
       "        vertical-align: middle;\n",
       "    }\n",
       "\n",
       "    .dataframe tbody tr th {\n",
       "        vertical-align: top;\n",
       "    }\n",
       "\n",
       "    .dataframe thead th {\n",
       "        text-align: right;\n",
       "    }\n",
       "</style>\n",
       "<table border=\"1\" class=\"dataframe\">\n",
       "  <thead>\n",
       "    <tr style=\"text-align: right;\">\n",
       "      <th></th>\n",
       "      <th>classes</th>\n",
       "      <th>text</th>\n",
       "      <th>d1</th>\n",
       "      <th>d2</th>\n",
       "    </tr>\n",
       "  </thead>\n",
       "  <tbody>\n",
       "    <tr>\n",
       "      <th>0</th>\n",
       "      <td>compra</td>\n",
       "      <td>-RATIFICAÇÃO DA AQUISIÇÃO POR DISPENSA DE LICI...</td>\n",
       "      <td>0.248567</td>\n",
       "      <td>0.117257</td>\n",
       "    </tr>\n",
       "    <tr>\n",
       "      <th>1</th>\n",
       "      <td>convocação</td>\n",
       "      <td>\\n-                                         Co...</td>\n",
       "      <td>0.388386</td>\n",
       "      <td>-0.178705</td>\n",
       "    </tr>\n",
       "    <tr>\n",
       "      <th>2</th>\n",
       "      <td>reparo</td>\n",
       "      <td>\\n-2        01             Par           Par d...</td>\n",
       "      <td>0.325611</td>\n",
       "      <td>0.680484</td>\n",
       "    </tr>\n",
       "  </tbody>\n",
       "</table>\n",
       "</div>"
      ],
      "text/plain": [
       "      classes                                               text        d1  \\\n",
       "0      compra  -RATIFICAÇÃO DA AQUISIÇÃO POR DISPENSA DE LICI...  0.248567   \n",
       "1  convocação  \\n-                                         Co...  0.388386   \n",
       "2      reparo  \\n-2        01             Par           Par d...  0.325611   \n",
       "\n",
       "         d2  \n",
       "0  0.117257  \n",
       "1 -0.178705  \n",
       "2  0.680484  "
      ]
     },
     "execution_count": 115,
     "metadata": {},
     "output_type": "execute_result"
    }
   ],
   "source": [
    "df.head(3)"
   ]
  },
  {
   "cell_type": "code",
   "execution_count": null,
   "metadata": {},
   "outputs": [],
   "source": [
    "import pandas as pd\n",
    "# import matplotlib\n",
    "import matplotlib.pyplot as plt\n",
    "# import seaborn\n",
    "import seaborn as sns\n",
    "%matplotlib inline\n",
    "\n",
    "g =sns.scatterplot(x=\"d1\", y=\"d2\",\n",
    "              hue=\"classes\",\n",
    "              data=df);\n",
    "\n",
    "g.savefig(\"ventilador_raw.png\")\n"
   ]
  }
 ],
 "metadata": {
  "kernelspec": {
   "display_name": "Python 3",
   "language": "python",
   "name": "python3"
  },
  "language_info": {
   "codemirror_mode": {
    "name": "ipython",
    "version": 3
   },
   "file_extension": ".py",
   "mimetype": "text/x-python",
   "name": "python",
   "nbconvert_exporter": "python",
   "pygments_lexer": "ipython3",
   "version": "3.7.5"
  }
 },
 "nbformat": 4,
 "nbformat_minor": 4
}
