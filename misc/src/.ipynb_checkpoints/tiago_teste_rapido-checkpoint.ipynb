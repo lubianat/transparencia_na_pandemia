{
 "cells": [
  {
   "cell_type": "code",
   "execution_count": 17,
   "metadata": {},
   "outputs": [],
   "source": [
    "import comprei.utils as cp\n",
    "import pandas as pd\n"
   ]
  },
  {
   "cell_type": "code",
   "execution_count": 2,
   "metadata": {},
   "outputs": [],
   "source": [
    "dir = '../data/_teste rápido_//'\n",
    "keyword = \"teste rápido\"\n",
    "\n"
   ]
  },
  {
   "cell_type": "code",
   "execution_count": 3,
   "metadata": {},
   "outputs": [],
   "source": [
    "! grep -r -i -C 10 --group-separator=\"==========\" \"$keyword\" \"$dir\" > temp.txt\n",
    "! sed -i 's_.*txt__g' temp.txt"
   ]
  },
  {
   "cell_type": "code",
   "execution_count": 4,
   "metadata": {},
   "outputs": [
    {
     "name": "stdout",
     "output_type": "stream",
     "text": [
      "there are 78 matches\n",
      "\n",
      "\n"
     ]
    },
    {
     "data": {
      "image/png": "[encoded data removed]",
      "text/plain": [
       "<Figure size 432x288 with 1 Axes>"
      ]
     },
     "metadata": {
      "needs_background": "light"
     },
     "output_type": "display_data"
    }
   ],
   "source": [
    "with open(\"temp.txt\", \"r\") as selected_contexts_file:\n",
    "  file_content = selected_contexts_file.read()\n",
    "  file_content_splitted = file_content.split(\"==========\")\n",
    "\n",
    "cp.plot_corpus(file_content_splitted)\n"
   ]
  },
  {
   "cell_type": "code",
   "execution_count": 5,
   "metadata": {},
   "outputs": [
    {
     "data": {
      "text/html": [
       "<div>\n",
       "<style scoped>\n",
       "    .dataframe tbody tr th:only-of-type {\n",
       "        vertical-align: middle;\n",
       "    }\n",
       "\n",
       "    .dataframe tbody tr th {\n",
       "        vertical-align: top;\n",
       "    }\n",
       "\n",
       "    .dataframe thead th {\n",
       "        text-align: right;\n",
       "    }\n",
       "</style>\n",
       "<table border=\"1\" class=\"dataframe\">\n",
       "  <thead>\n",
       "    <tr style=\"text-align: right;\">\n",
       "      <th></th>\n",
       "      <th>text</th>\n",
       "      <th>id</th>\n",
       "    </tr>\n",
       "  </thead>\n",
       "  <tbody>\n",
       "    <tr>\n",
       "      <th>0</th>\n",
       "      <td>-aproximadamente 32 mil testes      para a esc...</td>\n",
       "      <td>text_1</td>\n",
       "    </tr>\n",
       "    <tr>\n",
       "      <th>1</th>\n",
       "      <td>\\n-TORNA PÚBLICO AOS INTERESSADOS QUE ESTÁ ABE...</td>\n",
       "      <td>text_2</td>\n",
       "    </tr>\n",
       "    <tr>\n",
       "      <th>2</th>\n",
       "      <td>\\n-                                           ...</td>\n",
       "      <td>text_3</td>\n",
       "    </tr>\n",
       "    <tr>\n",
       "      <th>3</th>\n",
       "      <td>\\n-necessidades do setor de obras e manutenção...</td>\n",
       "      <td>text_4</td>\n",
       "    </tr>\n",
       "    <tr>\n",
       "      <th>4</th>\n",
       "      <td>\\n-\\n-\\n-\\n-CONTRATO 079/2020\\n-              ...</td>\n",
       "      <td>text_5</td>\n",
       "    </tr>\n",
       "    <tr>\n",
       "      <th>...</th>\n",
       "      <td>...</td>\n",
       "      <td>...</td>\n",
       "    </tr>\n",
       "    <tr>\n",
       "      <th>73</th>\n",
       "      <td>\\n-                                           ...</td>\n",
       "      <td>text_74</td>\n",
       "    </tr>\n",
       "    <tr>\n",
       "      <th>74</th>\n",
       "      <td>\\n-http://dlc.pmf.sc.gov.br. O Pregoeiro.     ...</td>\n",
       "      <td>text_75</td>\n",
       "    </tr>\n",
       "    <tr>\n",
       "      <th>75</th>\n",
       "      <td>\\n-LOCATÁRIA: Secretaria Municipal de Saúde/Fu...</td>\n",
       "      <td>text_76</td>\n",
       "    </tr>\n",
       "    <tr>\n",
       "      <th>76</th>\n",
       "      <td>\\n-Art. 1º Fica nomeada a Servidora SAMANTA MA...</td>\n",
       "      <td>text_77</td>\n",
       "    </tr>\n",
       "    <tr>\n",
       "      <th>77</th>\n",
       "      <td>\\n-AVISO\\n-                                   ...</td>\n",
       "      <td>text_78</td>\n",
       "    </tr>\n",
       "  </tbody>\n",
       "</table>\n",
       "<p>78 rows × 2 columns</p>\n",
       "</div>"
      ],
      "text/plain": [
       "                                                 text       id\n",
       "0   -aproximadamente 32 mil testes      para a esc...   text_1\n",
       "1   \\n-TORNA PÚBLICO AOS INTERESSADOS QUE ESTÁ ABE...   text_2\n",
       "2   \\n-                                           ...   text_3\n",
       "3   \\n-necessidades do setor de obras e manutenção...   text_4\n",
       "4   \\n-\\n-\\n-\\n-CONTRATO 079/2020\\n-              ...   text_5\n",
       "..                                                ...      ...\n",
       "73  \\n-                                           ...  text_74\n",
       "74  \\n-http://dlc.pmf.sc.gov.br. O Pregoeiro.     ...  text_75\n",
       "75  \\n-LOCATÁRIA: Secretaria Municipal de Saúde/Fu...  text_76\n",
       "76  \\n-Art. 1º Fica nomeada a Servidora SAMANTA MA...  text_77\n",
       "77  \\n-AVISO\\n-                                   ...  text_78\n",
       "\n",
       "[78 rows x 2 columns]"
      ]
     },
     "execution_count": 5,
     "metadata": {},
     "output_type": "execute_result"
    }
   ],
   "source": [
    "df = pd.DataFrame({'text':file_content_splitted})\n",
    "df[\"id\"] = df.index + 1\n",
    "df[\"id\"] = [\"text_\" + str(i) for i in df[\"id\"]]\n",
    "df"
   ]
  },
  {
   "cell_type": "code",
   "execution_count": 6,
   "metadata": {},
   "outputs": [],
   "source": [
    "def classificar(df):\n",
    "    \"\"\"\n",
    "    \n",
    "    \n",
    "    Args\n",
    "        A dataframe with columns for text and id\n",
    "        \n",
    "    Returns\n",
    "        dict: A dictionary with the user defined classes.\n",
    "        \n",
    "    \n",
    "    \n",
    "    \"\"\"\n",
    "    classes = {}\n",
    "    for i, row in df.iterrows():\n",
    "        classes[row[\"id\"]] = \"unlabeled\"\n",
    "        \n",
    "\n",
    "    for i, row in df.iterrows():\n",
    "        print(row[\"text\"])\n",
    "        print_tipos()\n",
    "        class_of_snippet = input(\"Qual é o tipo que mais se aproxima desse snippet?\")\n",
    "\n",
    "        classes[row[\"id\"]] = class_of_snippet\n",
    "        clear_output()\n",
    "\n",
    "        if input('continuar?(y/n)') == 'n':\n",
    "            break\n",
    "                \n",
    "    \n",
    "    return(classes)\n",
    "    print(classes)"
   ]
  },
  {
   "cell_type": "code",
   "execution_count": 8,
   "metadata": {},
   "outputs": [
    {
     "name": "stdin",
     "output_type": "stream",
     "text": [
      "continuar?(y/n) n\n"
     ]
    }
   ],
   "source": [
    "classes = cp.classificar(df)"
   ]
  },
  {
   "cell_type": "code",
   "execution_count": 9,
   "metadata": {},
   "outputs": [
    {
     "data": {
      "text/plain": [
       "{'text_1': '6',\n",
       " 'text_2': '3',\n",
       " 'text_3': '1',\n",
       " 'text_4': '4',\n",
       " 'text_5': '1',\n",
       " 'text_6': '1',\n",
       " 'text_7': '6',\n",
       " 'text_8': '6',\n",
       " 'text_9': '1',\n",
       " 'text_10': '1',\n",
       " 'text_11': '1',\n",
       " 'text_12': '1',\n",
       " 'text_13': '6',\n",
       " 'text_14': '6',\n",
       " 'text_15': '6',\n",
       " 'text_16': '1',\n",
       " 'text_17': '1',\n",
       " 'text_18': '1',\n",
       " 'text_19': '1',\n",
       " 'text_20': '1',\n",
       " 'text_21': '6',\n",
       " 'text_22': '6',\n",
       " 'text_23': '3',\n",
       " 'text_24': '6',\n",
       " 'text_25': '1',\n",
       " 'text_26': '6',\n",
       " 'text_27': '1',\n",
       " 'text_28': '6',\n",
       " 'text_29': '3',\n",
       " 'text_30': '3',\n",
       " 'text_31': '4',\n",
       " 'text_32': '6',\n",
       " 'text_33': '1',\n",
       " 'text_34': 'unlabeled',\n",
       " 'text_35': 'unlabeled',\n",
       " 'text_36': 'unlabeled',\n",
       " 'text_37': 'unlabeled',\n",
       " 'text_38': 'unlabeled',\n",
       " 'text_39': 'unlabeled',\n",
       " 'text_40': 'unlabeled',\n",
       " 'text_41': 'unlabeled',\n",
       " 'text_42': 'unlabeled',\n",
       " 'text_43': 'unlabeled',\n",
       " 'text_44': 'unlabeled',\n",
       " 'text_45': 'unlabeled',\n",
       " 'text_46': 'unlabeled',\n",
       " 'text_47': 'unlabeled',\n",
       " 'text_48': 'unlabeled',\n",
       " 'text_49': 'unlabeled',\n",
       " 'text_50': 'unlabeled',\n",
       " 'text_51': 'unlabeled',\n",
       " 'text_52': 'unlabeled',\n",
       " 'text_53': 'unlabeled',\n",
       " 'text_54': 'unlabeled',\n",
       " 'text_55': 'unlabeled',\n",
       " 'text_56': 'unlabeled',\n",
       " 'text_57': 'unlabeled',\n",
       " 'text_58': 'unlabeled',\n",
       " 'text_59': 'unlabeled',\n",
       " 'text_60': 'unlabeled',\n",
       " 'text_61': 'unlabeled',\n",
       " 'text_62': 'unlabeled',\n",
       " 'text_63': 'unlabeled',\n",
       " 'text_64': 'unlabeled',\n",
       " 'text_65': 'unlabeled',\n",
       " 'text_66': 'unlabeled',\n",
       " 'text_67': 'unlabeled',\n",
       " 'text_68': 'unlabeled',\n",
       " 'text_69': 'unlabeled',\n",
       " 'text_70': 'unlabeled',\n",
       " 'text_71': 'unlabeled',\n",
       " 'text_72': 'unlabeled',\n",
       " 'text_73': 'unlabeled',\n",
       " 'text_74': 'unlabeled',\n",
       " 'text_75': 'unlabeled',\n",
       " 'text_76': 'unlabeled',\n",
       " 'text_77': 'unlabeled',\n",
       " 'text_78': 'unlabeled'}"
      ]
     },
     "execution_count": 9,
     "metadata": {},
     "output_type": "execute_result"
    }
   ],
   "source": [
    "classes"
   ]
  },
  {
   "cell_type": "code",
   "execution_count": 18,
   "metadata": {},
   "outputs": [],
   "source": [
    "df[\"label\"] = df[\"id\"].map(classes)"
   ]
  },
  {
   "cell_type": "code",
   "execution_count": 19,
   "metadata": {},
   "outputs": [],
   "source": [
    "data2D = cp.get_2d_representation(file_content_splitted)\n",
    "\n",
    "df[\"d1\"] = data2D[:,0]\n",
    "df[\"d2\"] = data2D[:,1]"
   ]
  },
  {
   "cell_type": "code",
   "execution_count": 21,
   "metadata": {},
   "outputs": [
    {
     "name": "stdout",
     "output_type": "stream",
     "text": [
      "\n",
      "     Tipos possíveis:\n",
      "     1 - compra (de ventilador ou acessório)\n",
      "     2 - reparo/manutenção (de ventilador ou acessório)\n",
      "     3 - aviso de convocação para licitação\n",
      "     4 - registro de preços\n",
      "     5 - licitação fracassada\n",
      "     6 - outro    \n",
      "    \n"
     ]
    },
    {
     "ename": "ValueError",
     "evalue": "Could not interpret value `classes` for parameter `hue`",
     "output_type": "error",
     "traceback": [
      "\u001b[0;31m-----------------------------------------------------\u001b[0m",
      "\u001b[0;31mValueError\u001b[0m          Traceback (most recent call last)",
      "\u001b[0;32m<ipython-input-21-f196aa0ba496>\u001b[0m in \u001b[0;36m<module>\u001b[0;34m\u001b[0m\n\u001b[0;32m----> 1\u001b[0;31m \u001b[0mcp\u001b[0m\u001b[0;34m.\u001b[0m\u001b[0mplot_corpus_with_classes\u001b[0m\u001b[0;34m(\u001b[0m\u001b[0mdf\u001b[0m\u001b[0;34m,\u001b[0m \u001b[0;34m\"testes_raw_2020_10_01.png\"\u001b[0m\u001b[0;34m)\u001b[0m\u001b[0;34m\u001b[0m\u001b[0;34m\u001b[0m\u001b[0m\n\u001b[0m",
      "\u001b[0;32m~/Documents/lab_related/doutorado/school/mac6967/transparencia_na_pandemia/misc/src/comprei/utils.py\u001b[0m in \u001b[0;36mplot_corpus_with_classes\u001b[0;34m(df, filename)\u001b[0m\n\u001b[1;32m     62\u001b[0m     g = sns.scatterplot(x=\"d1\", y=\"d2\",\n\u001b[1;32m     63\u001b[0m               \u001b[0mhue\u001b[0m\u001b[0;34m=\u001b[0m\u001b[0;34m\"labels\"\u001b[0m\u001b[0;34m,\u001b[0m\u001b[0;34m\u001b[0m\u001b[0;34m\u001b[0m\u001b[0m\n\u001b[0;32m---> 64\u001b[0;31m               data=df);\n\u001b[0m\u001b[1;32m     65\u001b[0m \u001b[0;34m\u001b[0m\u001b[0m\n\u001b[1;32m     66\u001b[0m     \u001b[0mplot\u001b[0m \u001b[0;34m=\u001b[0m \u001b[0mg\u001b[0m\u001b[0;34m.\u001b[0m\u001b[0mget_figure\u001b[0m\u001b[0;34m(\u001b[0m\u001b[0;34m)\u001b[0m\u001b[0;34m\u001b[0m\u001b[0;34m\u001b[0m\u001b[0m\n",
      "\u001b[0;32m~/.local/lib/python3.7/site-packages/seaborn/_decorators.py\u001b[0m in \u001b[0;36minner_f\u001b[0;34m(*args, **kwargs)\u001b[0m\n\u001b[1;32m     44\u001b[0m             )\n\u001b[1;32m     45\u001b[0m         \u001b[0mkwargs\u001b[0m\u001b[0;34m.\u001b[0m\u001b[0mupdate\u001b[0m\u001b[0;34m(\u001b[0m\u001b[0;34m{\u001b[0m\u001b[0mk\u001b[0m\u001b[0;34m:\u001b[0m \u001b[0marg\u001b[0m \u001b[0;32mfor\u001b[0m \u001b[0mk\u001b[0m\u001b[0;34m,\u001b[0m \u001b[0marg\u001b[0m \u001b[0;32min\u001b[0m \u001b[0mzip\u001b[0m\u001b[0;34m(\u001b[0m\u001b[0msig\u001b[0m\u001b[0;34m.\u001b[0m\u001b[0mparameters\u001b[0m\u001b[0;34m,\u001b[0m \u001b[0margs\u001b[0m\u001b[0;34m)\u001b[0m\u001b[0;34m}\u001b[0m\u001b[0;34m)\u001b[0m\u001b[0;34m\u001b[0m\u001b[0;34m\u001b[0m\u001b[0m\n\u001b[0;32m---> 46\u001b[0;31m         \u001b[0;32mreturn\u001b[0m \u001b[0mf\u001b[0m\u001b[0;34m(\u001b[0m\u001b[0;34m**\u001b[0m\u001b[0mkwargs\u001b[0m\u001b[0;34m)\u001b[0m\u001b[0;34m\u001b[0m\u001b[0;34m\u001b[0m\u001b[0m\n\u001b[0m\u001b[1;32m     47\u001b[0m     \u001b[0;32mreturn\u001b[0m \u001b[0minner_f\u001b[0m\u001b[0;34m\u001b[0m\u001b[0;34m\u001b[0m\u001b[0m\n\u001b[1;32m     48\u001b[0m \u001b[0;34m\u001b[0m\u001b[0m\n",
      "\u001b[0;32m~/.local/lib/python3.7/site-packages/seaborn/relational.py\u001b[0m in \u001b[0;36mscatterplot\u001b[0;34m(x, y, hue, style, size, data, palette, hue_order, hue_norm, sizes, size_order, size_norm, markers, style_order, x_bins, y_bins, units, estimator, ci, n_boot, alpha, x_jitter, y_jitter, legend, ax, **kwargs)\u001b[0m\n\u001b[1;32m    796\u001b[0m         \u001b[0mx_bins\u001b[0m\u001b[0;34m=\u001b[0m\u001b[0mx_bins\u001b[0m\u001b[0;34m,\u001b[0m \u001b[0my_bins\u001b[0m\u001b[0;34m=\u001b[0m\u001b[0my_bins\u001b[0m\u001b[0;34m,\u001b[0m\u001b[0;34m\u001b[0m\u001b[0;34m\u001b[0m\u001b[0m\n\u001b[1;32m    797\u001b[0m         \u001b[0mestimator\u001b[0m\u001b[0;34m=\u001b[0m\u001b[0mestimator\u001b[0m\u001b[0;34m,\u001b[0m \u001b[0mci\u001b[0m\u001b[0;34m=\u001b[0m\u001b[0mci\u001b[0m\u001b[0;34m,\u001b[0m \u001b[0mn_boot\u001b[0m\u001b[0;34m=\u001b[0m\u001b[0mn_boot\u001b[0m\u001b[0;34m,\u001b[0m\u001b[0;34m\u001b[0m\u001b[0;34m\u001b[0m\u001b[0m\n\u001b[0;32m--> 798\u001b[0;31m         \u001b[0malpha\u001b[0m\u001b[0;34m=\u001b[0m\u001b[0malpha\u001b[0m\u001b[0;34m,\u001b[0m \u001b[0mx_jitter\u001b[0m\u001b[0;34m=\u001b[0m\u001b[0mx_jitter\u001b[0m\u001b[0;34m,\u001b[0m \u001b[0my_jitter\u001b[0m\u001b[0;34m=\u001b[0m\u001b[0my_jitter\u001b[0m\u001b[0;34m,\u001b[0m \u001b[0mlegend\u001b[0m\u001b[0;34m=\u001b[0m\u001b[0mlegend\u001b[0m\u001b[0;34m,\u001b[0m\u001b[0;34m\u001b[0m\u001b[0;34m\u001b[0m\u001b[0m\n\u001b[0m\u001b[1;32m    799\u001b[0m     )\n\u001b[1;32m    800\u001b[0m \u001b[0;34m\u001b[0m\u001b[0m\n",
      "\u001b[0;32m~/.local/lib/python3.7/site-packages/seaborn/relational.py\u001b[0m in \u001b[0;36m__init__\u001b[0;34m(self, data, variables, x_bins, y_bins, estimator, ci, n_boot, alpha, x_jitter, y_jitter, legend)\u001b[0m\n\u001b[1;32m    578\u001b[0m         )\n\u001b[1;32m    579\u001b[0m \u001b[0;34m\u001b[0m\u001b[0m\n\u001b[0;32m--> 580\u001b[0;31m         \u001b[0msuper\u001b[0m\u001b[0;34m(\u001b[0m\u001b[0;34m)\u001b[0m\u001b[0;34m.\u001b[0m\u001b[0m__init__\u001b[0m\u001b[0;34m(\u001b[0m\u001b[0mdata\u001b[0m\u001b[0;34m=\u001b[0m\u001b[0mdata\u001b[0m\u001b[0;34m,\u001b[0m \u001b[0mvariables\u001b[0m\u001b[0;34m=\u001b[0m\u001b[0mvariables\u001b[0m\u001b[0;34m)\u001b[0m\u001b[0;34m\u001b[0m\u001b[0;34m\u001b[0m\u001b[0m\n\u001b[0m\u001b[1;32m    581\u001b[0m \u001b[0;34m\u001b[0m\u001b[0m\n\u001b[1;32m    582\u001b[0m         \u001b[0mself\u001b[0m\u001b[0;34m.\u001b[0m\u001b[0malpha\u001b[0m \u001b[0;34m=\u001b[0m \u001b[0malpha\u001b[0m\u001b[0;34m\u001b[0m\u001b[0;34m\u001b[0m\u001b[0m\n",
      "\u001b[0;32m~/.local/lib/python3.7/site-packages/seaborn/_core.py\u001b[0m in \u001b[0;36m__init__\u001b[0;34m(self, data, variables)\u001b[0m\n\u001b[1;32m    602\u001b[0m     \u001b[0;32mdef\u001b[0m \u001b[0m__init__\u001b[0m\u001b[0;34m(\u001b[0m\u001b[0mself\u001b[0m\u001b[0;34m,\u001b[0m \u001b[0mdata\u001b[0m\u001b[0;34m=\u001b[0m\u001b[0;32mNone\u001b[0m\u001b[0;34m,\u001b[0m \u001b[0mvariables\u001b[0m\u001b[0;34m=\u001b[0m\u001b[0;34m{\u001b[0m\u001b[0;34m}\u001b[0m\u001b[0;34m)\u001b[0m\u001b[0;34m:\u001b[0m\u001b[0;34m\u001b[0m\u001b[0;34m\u001b[0m\u001b[0m\n\u001b[1;32m    603\u001b[0m \u001b[0;34m\u001b[0m\u001b[0m\n\u001b[0;32m--> 604\u001b[0;31m         \u001b[0mself\u001b[0m\u001b[0;34m.\u001b[0m\u001b[0massign_variables\u001b[0m\u001b[0;34m(\u001b[0m\u001b[0mdata\u001b[0m\u001b[0;34m,\u001b[0m \u001b[0mvariables\u001b[0m\u001b[0;34m)\u001b[0m\u001b[0;34m\u001b[0m\u001b[0;34m\u001b[0m\u001b[0m\n\u001b[0m\u001b[1;32m    605\u001b[0m \u001b[0;34m\u001b[0m\u001b[0m\n\u001b[1;32m    606\u001b[0m         \u001b[0;32mfor\u001b[0m \u001b[0mvar\u001b[0m\u001b[0;34m,\u001b[0m \u001b[0mcls\u001b[0m \u001b[0;32min\u001b[0m \u001b[0mself\u001b[0m\u001b[0;34m.\u001b[0m\u001b[0m_semantic_mappings\u001b[0m\u001b[0;34m.\u001b[0m\u001b[0mitems\u001b[0m\u001b[0;34m(\u001b[0m\u001b[0;34m)\u001b[0m\u001b[0;34m:\u001b[0m\u001b[0;34m\u001b[0m\u001b[0;34m\u001b[0m\u001b[0m\n",
      "\u001b[0;32m~/.local/lib/python3.7/site-packages/seaborn/_core.py\u001b[0m in \u001b[0;36massign_variables\u001b[0;34m(self, data, variables)\u001b[0m\n\u001b[1;32m    666\u001b[0m             \u001b[0mself\u001b[0m\u001b[0;34m.\u001b[0m\u001b[0minput_format\u001b[0m \u001b[0;34m=\u001b[0m \u001b[0;34m\"long\"\u001b[0m\u001b[0;34m\u001b[0m\u001b[0;34m\u001b[0m\u001b[0m\n\u001b[1;32m    667\u001b[0m             plot_data, variables = self._assign_variables_longform(\n\u001b[0;32m--> 668\u001b[0;31m                 \u001b[0mdata\u001b[0m\u001b[0;34m,\u001b[0m \u001b[0;34m**\u001b[0m\u001b[0mvariables\u001b[0m\u001b[0;34m,\u001b[0m\u001b[0;34m\u001b[0m\u001b[0;34m\u001b[0m\u001b[0m\n\u001b[0m\u001b[1;32m    669\u001b[0m             )\n\u001b[1;32m    670\u001b[0m \u001b[0;34m\u001b[0m\u001b[0m\n",
      "\u001b[0;32m~/.local/lib/python3.7/site-packages/seaborn/_core.py\u001b[0m in \u001b[0;36m_assign_variables_longform\u001b[0;34m(self, data, **kwargs)\u001b[0m\n\u001b[1;32m    885\u001b[0m                     \u001b[0;31m# We don't know what this name means\u001b[0m\u001b[0;34m\u001b[0m\u001b[0;34m\u001b[0m\u001b[0;34m\u001b[0m\u001b[0m\n\u001b[1;32m    886\u001b[0m                     \u001b[0merr\u001b[0m \u001b[0;34m=\u001b[0m \u001b[0;34mf\"Could not interpret value `{val}` for parameter `{key}`\"\u001b[0m\u001b[0;34m\u001b[0m\u001b[0;34m\u001b[0m\u001b[0m\n\u001b[0;32m--> 887\u001b[0;31m                     \u001b[0;32mraise\u001b[0m \u001b[0mValueError\u001b[0m\u001b[0;34m(\u001b[0m\u001b[0merr\u001b[0m\u001b[0;34m)\u001b[0m\u001b[0;34m\u001b[0m\u001b[0;34m\u001b[0m\u001b[0m\n\u001b[0m\u001b[1;32m    888\u001b[0m \u001b[0;34m\u001b[0m\u001b[0m\n\u001b[1;32m    889\u001b[0m             \u001b[0;32melse\u001b[0m\u001b[0;34m:\u001b[0m\u001b[0;34m\u001b[0m\u001b[0;34m\u001b[0m\u001b[0m\n",
      "\u001b[0;31mValueError\u001b[0m: Could not interpret value `classes` for parameter `hue`"
     ]
    }
   ],
   "source": [
    "cp.plot_corpus_with_classes(df, \"testes_raw_2020_10_01.png\")"
   ]
  },
  {
   "cell_type": "code",
   "execution_count": 15,
   "metadata": {},
   "outputs": [
    {
     "name": "stdout",
     "output_type": "stream",
     "text": [
      "there are 19 matches\n",
      "\n",
      "\n"
     ]
    },
    {
     "data": {
      "image/png": "[encoded data removed]",
      "text/plain": [
       "<Figure size 432x288 with 1 Axes>"
      ]
     },
     "metadata": {
      "needs_background": "light"
     },
     "output_type": "display_data"
    }
   ],
   "source": [
    "dir = '../data/ventilado_pulmonar_linearizado//'\n",
    "keyword = \"ventilador pulmonar\"\n",
    "\n",
    "! grep -r -i -C 10 --group-separator=\"==========\" \"$keyword\" \"$dir\" > temp.txt\n",
    "! sed -i 's_.*txt__g' temp.txt\n",
    "\n",
    "with open(\"temp.txt\", \"r\") as selected_contexts_file:\n",
    "  file_content = selected_contexts_file.read()\n",
    "  file_content_splitted = file_content.split(\"==========\")\n",
    "\n",
    "cp.plot_corpus(file_content_splitted)"
   ]
  },
  {
   "cell_type": "code",
   "execution_count": 16,
   "metadata": {},
   "outputs": [
    {
     "name": "stdin",
     "output_type": "stream",
     "text": [
      "classificar?(y/n) k\n"
     ]
    }
   ],
   "source": [
    "classes = cp.classificar(file_content_splitted)"
   ]
  },
  {
   "cell_type": "code",
   "execution_count": 20,
   "metadata": {},
   "outputs": [
    {
     "name": "stdout",
     "output_type": "stream",
     "text": [
      "['compra', 'aviso de licitação', 'reparo', 'compra', 'reparo', 'reparo', 'aviso de licitação', 'outro', 'registro de preços', 'registro de preços', 'reparo', 'aviso de licitação', 'aviso de licitação', 'registro de preços', 'aviso de licitação', 'licitação fracassada', 'reparo', 'registro de preços', 'compra']\n",
      "\n",
      "     Tipos possíveis:\n",
      "     1 - compra (de ventilador ou acessório)\n",
      "     2 - reparo/manutenção (de ventilador ou acessório)\n",
      "     3 - aviso de convocação para licitação\n",
      "     4 - registro de preços\n",
      "     5 - licitação fracassada\n",
      "     6 - outro    \n",
      "    \n"
     ]
    },
    {
     "data": {
      "image/png": "[encoded data removed]",
      "text/plain": [
       "<Figure size 432x288 with 1 Axes>"
      ]
     },
     "metadata": {
      "needs_background": "light"
     },
     "output_type": "display_data"
    }
   ],
   "source": [
    "print(classes)\n",
    "classes = ['1', '3', '2', '1', '2', '2', '3', '6', '4', '4', '2', '3', '3', '4', '3', '5', '2', '4', '1']\n",
    "classes = cp.descrever_tipo(classes)\n",
    "data2D = cp.get_2d_representation(file_content_splitted)\n",
    "\n",
    "df = pd.DataFrame({\"classes\":classes,\n",
    "                   \"text\":file_content_splitted,\n",
    "                   \"d1\": data2D[:,0],\n",
    "                   \"d2\": data2D[:,1]})\n",
    "\n",
    "cp.plot_corpus_with_classes(df, \"ventilador_linearized.png\")"
   ]
  }
 ],
 "metadata": {
  "kernelspec": {
   "display_name": "Python 3",
   "language": "python",
   "name": "python3"
  },
  "language_info": {
   "codemirror_mode": {
    "name": "ipython",
    "version": 3
   },
   "file_extension": ".py",
   "mimetype": "text/x-python",
   "name": "python",
   "nbconvert_exporter": "python",
   "pygments_lexer": "ipython3",
   "version": "3.7.5"
  }
 },
 "nbformat": 4,
 "nbformat_minor": 4
}
