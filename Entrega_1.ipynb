{
  "nbformat": 4,
  "nbformat_minor": 0,
  "metadata": {
    "colab": {
      "name": "Entrega 1.ipynb",
      "provenance": [],
      "collapsed_sections": [],
      "authorship_tag": "ABX9TyMFP5hdZ9i5Dgj6xbb+lKD2",
      "include_colab_link": true
    },
    "kernelspec": {
      "name": "python3",
      "display_name": "Python 3"
    }
  },
  "cells": [
    {
      "cell_type": "markdown",
      "metadata": {
        "id": "view-in-github",
        "colab_type": "text"
      },
      "source": [
        "<a href=\"https://colab.research.google.com/github/lubianat/transparencia_na_pandemia/blob/master/Entrega_1.ipynb\" target=\"_parent\"><img src=\"https://colab.research.google.com/assets/colab-badge.svg\" alt=\"Open In Colab\"/></a>"
      ]
    },
    {
      "cell_type": "markdown",
      "metadata": {
        "id": "SvUrnMkWqu2a",
        "colab_type": "text"
      },
      "source": [
        "# Descrição inicial da proposta\n",
        "\n",
        "Após conversa com representantes da Open Knowledge Brasil, começamos a definir\n",
        "os objetivos do projeto. \n",
        "\n",
        "Devido a riqueza dos dados e a natureza múltipla dos interesses do cliente, \n",
        "pautamos um objetivo inicial para orientar a exploração dos dados: \n",
        "\n",
        "A partir dos Diários Oficiais, identificar compras suspeitas durante a pandemia.\n",
        "A tarefa consistirá tanto em identificar compras e contratações feitas no \n",
        "período, a organização de tais informações e integração com bases de dados\n",
        "sugeridas pelo cliente: a base de [sócios de empresas brasileiras](https://brasil.io/dataset/socios-brasil/socios/)\n",
        "e a base de dados de doações de campanha do Tribunal Superior Eleitoral. \n",
        "\n",
        "\n",
        "Tal tarefa implica, primeiramente, extração de informações dos diários como:\n",
        "  - Valor de transações\n",
        "  - Partes envolvidas nas transações\n",
        "  - Data das transações \n",
        "\n",
        "A partir disso, então, será possível pensar em estratégias para identificar \n",
        "situações que possam ser consideradas suspeitas, como empresas envolvidas tanto\n",
        "com financiamento de campanhas nas eleições de 2020 como com transações \n",
        "comerciais relatadas em diário oficial. \n",
        "\n",
        "\n",
        "# Exploração dos dados piloto dos Diários Oficiais \n",
        "\n",
        "Os dados foram fornecidos em diversas pastas, com categorias distintas. \n",
        "Os arquivos estão presentes em formato .txt, com diversos arquivos por pasta. \n",
        "\n",
        "\n",
        "## Descrição dos dados\n",
        "\n",
        "A descrição dos dados, nos fornecida pelo Mario Sérgio, nosso ponto de contato \n",
        "da Open Knowledge Foundation, é a seguinte:\n",
        "\n",
        "- Foram coletados arquivos em PDF de 306 municípios brasileiros, listados [aqui](https://github.com/okfn-brasil/querido-diario/tree/main/processing/data_collection/gazette/spiders).\n",
        "- O intervalo de publicação dos diários é do dia 01 de fevereiro de 2020 \n",
        "até o dia 15 de junho de 2020.\n",
        "- Os arquivos em PDF foram convertidos para arquivos texto.\n",
        "- Os textos foram buscas por palavras-chave, utilizando o \n",
        "[projeto inicial de buscador](https://github.com/okfn-brasil/busca-querido-diario),que está sendo aprimorado\n",
        "\n",
        "As palavras-chaves são:\n",
        "- 'emergencial',\n",
        "- '\"estado de Emergência de Saúde Pública\"',\n",
        "- '\"Dispensa de licitação\"',\n",
        "- '\"Equipamentos de Proteção Individual\"',\n",
        "- 'EPI',\n",
        "- '\"ventiladores pulmonares\"',\n",
        "- '\"ventilador pulmonar\"',\n",
        "- 'Demanda Emergencial Covid-19',\n",
        "- '\"teste rápido\"',\n",
        "- 'RT-PCR',\n",
        "- '\"Hospital de Campanha\"'\n",
        "\n",
        "Basicamente são os arquivos dos diários completos, que foram convertidos em texto e que apresentam algumas dessas palavras-chaves listadas.\n",
        "\n",
        "\n",
        "## O que são esses dados? \n",
        "\n",
        "Tendo em vista que os dados foram provenientes de buscas por palavras-chave, decidimos ver o número de arquivos para cada busca:\n",
        "\n"
      ]
    },
    {
      "cell_type": "code",
      "metadata": {
        "id": "KomYgX7Xrb4-",
        "colab_type": "code",
        "colab": {
          "base_uri": "https://localhost:8080/",
          "height": 315
        },
        "outputId": "a7a11465-4bf7-47a3-92c9-dec072202083"
      },
      "source": [
        "from google.colab import drive\n",
        "import pandas as pd\n",
        "import numpy as np\n",
        "import pprint \n",
        "import os\n",
        "\n",
        "drive.mount('/content/drive')\n",
        "dir = '/content/drive/Shared drives/Transparência na Pandemia/8-Transparência em tempos de pandemia/Buscas de palavras chaves'\n",
        "\n",
        "keywords = os.listdir(dir)\n",
        "\n",
        "files_per_keyword = {}\n",
        "\n",
        "\n",
        "for index, keyword in enumerate(keywords):\n",
        "\n",
        "  dir_of_search_results = dir + \"/\" + keyword\n",
        "  files_per_keyword[keyword] =  len(os.listdir(dir_of_search_results))\n",
        "\n",
        "pprint.pprint(files_per_keyword)"
      ],
      "execution_count": 6,
      "outputs": [
        {
          "output_type": "stream",
          "text": [
            "Go to this URL in a browser: https://accounts.google.com/o/oauth2/auth?client_id=947318989803-6bn6qk8qdgf4n4g3pfee6491hc0brc4i.apps.googleusercontent.com&redirect_uri=urn%3aietf%3awg%3aoauth%3a2.0%3aoob&scope=email%20https%3a%2f%2fwww.googleapis.com%2fauth%2fdocs.test%20https%3a%2f%2fwww.googleapis.com%2fauth%2fdrive%20https%3a%2f%2fwww.googleapis.com%2fauth%2fdrive.photos.readonly%20https%3a%2f%2fwww.googleapis.com%2fauth%2fpeopleapi.readonly&response_type=code\n",
            "\n",
            "Enter your authorization code:\n",
            "··········\n",
            "Mounted at /content/drive\n",
            "{'Demanda Emergencial Covid-19': 228,\n",
            " 'EPI': 222,\n",
            " 'RT-PCR': 26,\n",
            " '_Dispensa de licitação_': 800,\n",
            " '_Equipamentos de Proteção Individual_': 207,\n",
            " '_Hospital de Campanha_': 52,\n",
            " '_estado de Emergência de Saúde Pública_': 36,\n",
            " '_teste rápido_': 63,\n",
            " '_ventilador pulmonar_': 18,\n",
            " '_ventiladores pulmonares_': 10,\n",
            " 'emergencial': 440}\n"
          ],
          "name": "stdout"
        }
      ]
    },
    {
      "cell_type": "markdown",
      "metadata": {
        "id": "th2-hLVwrTpR",
        "colab_type": "text"
      },
      "source": [
        "Apesar do número de arquivos variar entre as buscas, a proximidade semântica dos termos buscados nos levou à hipótese que poderia haver redundância no conjunto de dados. Ou seja, o mesmo arquivo poderia ter sido recuperado independentemente em duas ou mais buscas. \n",
        "\n"
      ]
    },
    {
      "cell_type": "code",
      "metadata": {
        "id": "ZJoacOn5sfZ1",
        "colab_type": "code",
        "colab": {}
      },
      "source": [
        "ADICIONAR HISTOGRAMA DO NÚMERO DE BUSCAS/ARQUIVO NO EIXO X\n"
      ],
      "execution_count": null,
      "outputs": []
    },
    {
      "cell_type": "markdown",
      "metadata": {
        "id": "RPEfDYmps27T",
        "colab_type": "text"
      },
      "source": [
        "ADICIONAR DISCUSSÃO SOBRE REDUNDÂNCIA\n",
        "\n",
        "ADICIONAR DISCUSSÃO SOBRE OS ARQUIVOS SEREM DE FORMATOS VARIADOS"
      ]
    },
    {
      "cell_type": "markdown",
      "metadata": {
        "id": "oRaVxzVWtAc1",
        "colab_type": "text"
      },
      "source": [
        "ADICIONAR PRINT SCREENS DE DIFERENTES ARQUIVOS, EXEMPLIFICANDO HETEROGENEIDADE\n",
        "\n",
        "ADICIONAR DISCUSSÃO SOBRE AS COLUNAS NOS ARQUIVOS\n"
      ]
    },
    {
      "cell_type": "code",
      "metadata": {
        "id": "p91OCoaVtPEI",
        "colab_type": "code",
        "colab": {}
      },
      "source": [
        "ADICIONAR CÓDIGO SOBRE AS COLUNAS EM CADA ARQUIVO (CÓDIGO DO GABRIEL)"
      ],
      "execution_count": null,
      "outputs": []
    },
    {
      "cell_type": "markdown",
      "metadata": {
        "id": "Gip6QuD4tnAa",
        "colab_type": "text"
      },
      "source": [
        "Apesar dos desafios acerca da preparação dos dados para análise, fizemos análises exploratórias das características textuais globais do dado. \n",
        "\n",
        "ADICIONAR DISCUSSÃO SOBRE AS FERRAMENTAS DE PROCESSAMENTO DE LINGUAGEM NATURAL UTILIZADOS"
      ]
    },
    {
      "cell_type": "code",
      "metadata": {
        "id": "spm0hJGMuFbp",
        "colab_type": "code",
        "colab": {}
      },
      "source": [
        "ADICIONAR CÓDIGO DE ANÁLISE DE PLN STRICTO SENSU"
      ],
      "execution_count": null,
      "outputs": []
    }
  ]
}